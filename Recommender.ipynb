{
  "cells": [
    {
      "cell_type": "markdown",
      "metadata": {
        "id": "l8nhDATdPwXe"
      },
      "source": [
        "# **Build Recommendation System with Content-Based Filtering**"
      ]
    },
    {
      "cell_type": "markdown",
      "metadata": {
        "id": "a5u2dta3QRWs"
      },
      "source": [
        "# Packages\n",
        "\n",
        "Import Packages\n",
        "\n"
      ]
    },
    {
      "cell_type": "code",
      "execution_count": 1,
      "metadata": {
        "id": "gqGtDqpdQgiz"
      },
      "outputs": [],
      "source": [
        "import pandas as pd\n",
        "from sklearn.model_selection import train_test_split\n",
        "from sklearn.preprocessing import StandardScaler\n",
        "from sklearn.metrics.pairwise import cosine_similarity\n",
        "import tensorflow as tf"
      ]
    },
    {
      "cell_type": "markdown",
      "metadata": {
        "id": "-gw06VeaRCOD"
      },
      "source": [
        "# Import Dataset\n"
      ]
    },
    {
      "cell_type": "code",
      "execution_count": 11,
      "metadata": {
        "id": "XUo3-g3uRFqz"
      },
      "outputs": [],
      "source": [
        "user_dataset = pd.read_csv(\"./user_data.csv\")\n",
        "event_dataset= pd.read_csv(\"./event_data.csv\")"
      ]
    },
    {
      "cell_type": "code",
      "execution_count": 28,
      "metadata": {
        "colab": {
          "base_uri": "https://localhost:8080/"
        },
        "id": "GPlV_6I2TdkE",
        "outputId": "3b8ba015-e65c-46f3-8dfc-03d456425a48"
      },
      "outputs": [
        {
          "name": "stdout",
          "output_type": "stream",
          "text": [
            "4987\n",
            "1092\n"
          ]
        }
      ],
      "source": [
        "print(len(user_dataset))\n",
        "print(len(event_dataset))"
      ]
    },
    {
      "cell_type": "markdown",
      "metadata": {
        "id": "Z7KBW-TR_mX0"
      },
      "source": [
        "# Preprocessing Data User\n"
      ]
    },
    {
      "cell_type": "code",
      "execution_count": null,
      "metadata": {
        "id": "w8v2Jmrc_kVy"
      },
      "outputs": [],
      "source": [
        "# Preprocessing user data\n",
        "user_dataset['Skills'] = user_dataset['Skills'].str.lower()\n",
        "user_dataset['Availability'] = user_dataset['Availability'].str.lower()\n",
        "user_dataset['Location'] = user_dataset['Location'].str.lower()\n",
        "user_dataset['Type of Organization'] = user_dataset['Type of Organization'].str.lower()\n",
        "\n",
        "# Memisahkan menjadi beberapa kolom terpisah untuk one hot\n",
        "user_skills_split = user_dataset['Skills'].str.split(', ', expand=True)\n",
        "\n",
        "# Create one-hot encoding for user skills\n",
        "user_skills_one_hot = pd.get_dummies(user_skills_split, prefix='Skill')\n",
        "\n",
        "user_skills_one_hot"
      ]
    },
    {
      "cell_type": "code",
      "execution_count": null,
      "metadata": {
        "id": "XC8QVVpmc39b"
      },
      "outputs": [],
      "source": [
        "# Merge Onehot encoding with data user\n",
        "user_data_encode = pd.concat([user_dataset, user_skills_one_hot], axis=1)\n",
        "user_data_encode"
      ]
    },
    {
      "cell_type": "markdown",
      "metadata": {
        "id": "1tzTCLCEcApu"
      },
      "source": [
        "# Preprocessing Data Event\n"
      ]
    },
    {
      "cell_type": "code",
      "execution_count": 29,
      "metadata": {
        "id": "Ckh299YzcEtD"
      },
      "outputs": [],
      "source": [
        "## Preprocessing event data\n",
        "#event_dataset['Kualifikasi'] = event_dataset['Kualifikasi'].str.lower()\n",
        "\n",
        "## Create one-hot encoding for event category\n",
        "# event_category_one_hot = pd.get_dummies(event_dataset['Kategori'], prefix='Category')"
      ]
    },
    {
      "cell_type": "markdown",
      "metadata": {
        "id": "y8lnGwUC_71g"
      },
      "source": [
        "Nyoba proses nilai umur\n",
        "\n",
        "\n",
        "\n",
        "```\n",
        "###Pemrosesan Data Umur\n",
        "def process_age(value):\n",
        "    if '-' in str(value):  # Jika nilai adalah rentang umur\n",
        "        age_range = value.split('-')\n",
        "        return (int(age_range[0]) + int(age_range[1])) / 2\n",
        "    elif isinstance(value, int):  # Jika nilai adalah umur tunggal dan sudah integer\n",
        "        return value\n",
        "    else:\n",
        "        # Penanganan lainnya\n",
        "        return None\n",
        "\n",
        "\n",
        "event_dataset['Age'] = event_dataset['Age'].apply(process_age)\n",
        "\n",
        "```\n",
        "\n"
      ]
    }
  ],
  "metadata": {
    "colab": {
      "provenance": [],
      "toc_visible": true
    },
    "kernelspec": {
      "display_name": "Python 3",
      "name": "python3"
    },
    "language_info": {
      "name": "python"
    }
  },
  "nbformat": 4,
  "nbformat_minor": 0
}
