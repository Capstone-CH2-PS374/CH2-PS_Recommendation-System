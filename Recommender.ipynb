{
  "nbformat": 4,
  "nbformat_minor": 0,
  "metadata": {
    "colab": {
      "provenance": [],
      "toc_visible": true
    },
    "kernelspec": {
      "name": "python3",
      "display_name": "Python 3"
    },
    "language_info": {
      "name": "python"
    }
  },
  "cells": [
    {
      "cell_type": "markdown",
      "source": [
        "# **Build Recommendation System with Content-Based Filtering**"
      ],
      "metadata": {
        "id": "l8nhDATdPwXe"
      }
    },
    {
      "cell_type": "markdown",
      "source": [
        "# Packages\n",
        "\n",
        "Import Packages\n",
        "\n"
      ],
      "metadata": {
        "id": "a5u2dta3QRWs"
      }
    },
    {
      "cell_type": "code",
      "source": [
        "import pandas as pd\n",
        "from sklearn.model_selection import train_test_split\n",
        "from sklearn.preprocessing import StandardScaler\n",
        "from sklearn.metrics.pairwise import cosine_similarity\n",
        "import tensorflow as tf"
      ],
      "metadata": {
        "id": "gqGtDqpdQgiz"
      },
      "execution_count": 1,
      "outputs": []
    },
    {
      "cell_type": "markdown",
      "source": [
        "# Import Dataset\n"
      ],
      "metadata": {
        "id": "-gw06VeaRCOD"
      }
    },
    {
      "cell_type": "code",
      "source": [
        "user_dataset = pd.read_csv(\"./user_data.csv\")\n",
        "event_dataset= pd.read_csv(\"./event_data.csv\")"
      ],
      "metadata": {
        "id": "XUo3-g3uRFqz"
      },
      "execution_count": 11,
      "outputs": []
    },
    {
      "cell_type": "code",
      "source": [
        "print(len(user_dataset))\n",
        "print(len(event_dataset))"
      ],
      "metadata": {
        "colab": {
          "base_uri": "https://localhost:8080/"
        },
        "id": "GPlV_6I2TdkE",
        "outputId": "3b8ba015-e65c-46f3-8dfc-03d456425a48"
      },
      "execution_count": 28,
      "outputs": [
        {
          "output_type": "stream",
          "name": "stdout",
          "text": [
            "4987\n",
            "1092\n"
          ]
        }
      ]
    },
    {
      "cell_type": "markdown",
      "source": [
        "# Preprocessing Data User\n"
      ],
      "metadata": {
        "id": "Z7KBW-TR_mX0"
      }
    },
    {
      "cell_type": "code",
      "source": [
        "# Preprocessing user data\n",
        "user_dataset['Skills'] = user_dataset['Skills'].str.lower()\n",
        "user_dataset['Availability'] = user_dataset['Availability'].str.lower()\n",
        "user_dataset['Location'] = user_dataset['Location'].str.lower()\n",
        "user_dataset['Type of Organization'] = user_dataset['Type of Organization'].str.lower()\n",
        "\n",
        "# Memisahkan menjadi beberapa kolom terpisah untuk one hot\n",
        "user_skills_split = user_dataset['Skills'].str.split(', ', expand=True)\n",
        "\n",
        "# Create one-hot encoding for user skills\n",
        "user_skills_one_hot = pd.get_dummies(user_skills_split, prefix='Skill')\n",
        "\n",
        "user_skills_one_hot"
      ],
      "metadata": {
        "id": "w8v2Jmrc_kVy"
      },
      "execution_count": null,
      "outputs": []
    },
    {
      "cell_type": "code",
      "source": [
        "# Merge Onehot encoding with data user\n",
        "user_data_encode = pd.concat([user_dataset, user_skills_one_hot], axis=1)\n",
        "user_data_encode"
      ],
      "metadata": {
        "id": "XC8QVVpmc39b"
      },
      "execution_count": null,
      "outputs": []
    },
    {
      "cell_type": "markdown",
      "source": [
        "# Preprocessing Data Event\n"
      ],
      "metadata": {
        "id": "1tzTCLCEcApu"
      }
    },
    {
      "cell_type": "code",
      "source": [
        "## Preprocessing event data\n",
        "#event_dataset['Kualifikasi'] = event_dataset['Kualifikasi'].str.lower()\n",
        "\n",
        "## Create one-hot encoding for event category\n",
        "# event_category_one_hot = pd.get_dummies(event_dataset['Kategori'], prefix='Category')"
      ],
      "metadata": {
        "id": "Ckh299YzcEtD"
      },
      "execution_count": 29,
      "outputs": []
    },
    {
      "cell_type": "code",
      "source": [
        "# Merge user and event data\n",
        "merged_data = pd.merge(user_dataset, event_dataset, how='cross')\n",
        "\n",
        "# Create one-hot encoding for user and event data\n",
        "user_one_hot = pd.get_dummies(merged_data[['Age', 'Gender', 'Availability', 'Location', 'Type of Organization']], prefix='User')\n",
        "event_one_hot = pd.get_dummies(merged_data[['Age', 'Gender', 'Domisili']], prefix='Event')\n",
        "\n",
        "# Concatenate user and event one-hot encodings\n",
        "X = pd.concat([user_skills_one_hot, user_one_hot, event_category_one_hot, event_one_hot], axis=1)\n",
        "\n",
        "# Target variable\n",
        "y = merged_data['Match']\n",
        "\n",
        "# Train-test split\n",
        "X_train, X_test, y_train, y_test = train_test_split(X, y, test_size=0.2, random_state=42)"
      ],
      "metadata": {
        "id": "HzqxGqliWLJm"
      },
      "execution_count": null,
      "outputs": []
    },
    {
      "cell_type": "markdown",
      "source": [
        "Nyoba proses nilai umur\n",
        "\n",
        "\n",
        "\n",
        "```\n",
        "###Pemrosesan Data Umur\n",
        "def process_age(value):\n",
        "    if '-' in str(value):  # Jika nilai adalah rentang umur\n",
        "        age_range = value.split('-')\n",
        "        return (int(age_range[0]) + int(age_range[1])) / 2\n",
        "    elif isinstance(value, int):  # Jika nilai adalah umur tunggal dan sudah integer\n",
        "        return value\n",
        "    else:\n",
        "        # Penanganan lainnya\n",
        "        return None\n",
        "\n",
        "\n",
        "event_dataset['Age'] = event_dataset['Age'].apply(process_age)\n",
        "\n",
        "```\n",
        "\n"
      ],
      "metadata": {
        "id": "y8lnGwUC_71g"
      }
    }
  ]
}