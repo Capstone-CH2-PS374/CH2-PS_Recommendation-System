{
  "nbformat": 4,
  "nbformat_minor": 0,
  "metadata": {
    "colab": {
      "provenance": [],
      "gpuType": "T4",
      "authorship_tag": "ABX9TyOTeDwTARLF9TpTYRGgfv38",
      "include_colab_link": true
    },
    "kernelspec": {
      "name": "python3",
      "display_name": "Python 3"
    },
    "language_info": {
      "name": "python"
    },
    "accelerator": "GPU"
  },
  "cells": [
    {
      "cell_type": "markdown",
      "metadata": {
        "id": "view-in-github",
        "colab_type": "text"
      },
      "source": [
        "<a href=\"https://colab.research.google.com/github/argalusmp/CH2-PS_Recommendation-System/blob/mi/Recommender_(3).ipynb\" target=\"_parent\"><img src=\"https://colab.research.google.com/assets/colab-badge.svg\" alt=\"Open In Colab\"/></a>"
      ]
    },
    {
      "cell_type": "code",
      "execution_count": null,
      "metadata": {
        "id": "mhMFmW4tcYu_",
        "colab": {
          "base_uri": "https://localhost:8080/"
        },
        "outputId": "15a23482-c79d-48e3-fa0e-ef30438d4d81"
      },
      "outputs": [
        {
          "output_type": "stream",
          "name": "stdout",
          "text": [
            "Mounted at /content/drive\n"
          ]
        }
      ],
      "source": [
        "from google.colab import drive\n",
        "drive.mount('/content/drive')"
      ]
    },
    {
      "cell_type": "code",
      "source": [
        "import numpy as np\n",
        "import tensorflow as tf\n",
        "from tensorflow import keras\n",
        "import pandas as pd\n",
        "from sklearn.metrics.pairwise import cosine_similarity\n",
        "from sklearn.model_selection import train_test_split\n",
        "from sklearn.metrics import mean_squared_error\n",
        "import matplotlib.pyplot as plt\n",
        "from typing import Dict, Text"
      ],
      "metadata": {
        "id": "MLbTMiI7cq89"
      },
      "execution_count": null,
      "outputs": []
    },
    {
      "cell_type": "code",
      "source": [
        "from IPython.core.interactiveshell import InteractiveShell\n",
        "\n",
        "# Set shell to show all lines of output\n",
        "InteractiveShell.ast_node_interactivity = 'all'\n",
        "\n",
        "import json\n",
        "\n",
        "events = []\n",
        "\n",
        "with open('drive/MyDrive/Capstone Project/events_nd_2.json', 'r') as fin:\n",
        "    # Append each line to the books\n",
        "    events = [json.loads(l) for l in fin]\n",
        "\n",
        "events = [event for event in events]\n",
        "print(f'Found {len(events)} event.')"
      ],
      "metadata": {
        "id": "a9HD-EMhctDG",
        "colab": {
          "base_uri": "https://localhost:8080/"
        },
        "outputId": "ff09e331-a4bc-4186-f7f2-a3df67e68c1c"
      },
      "execution_count": null,
      "outputs": [
        {
          "output_type": "stream",
          "name": "stdout",
          "text": [
            "Found 2786 event.\n"
          ]
        }
      ]
    },
    {
      "cell_type": "code",
      "source": [
        "[event for event in events][:10]"
      ],
      "metadata": {
        "id": "0l4UVUIMxfBF",
        "colab": {
          "base_uri": "https://localhost:8080/"
        },
        "outputId": "ddca014d-80e4-4b13-952e-9a55565200ec"
      },
      "execution_count": null,
      "outputs": [
        {
          "output_type": "execute_result",
          "data": {
            "text/plain": [
              "[{'Event Name': 'Volunteers Needed For Rise Up & Stay Put! Home Rescue Fair',\n",
              "  'Category': 'Youth Development',\n",
              "  'Qualifications': ['youth mentoring', 'youth empowerment'],\n",
              "  'Domisili': 'Solo',\n",
              "  'Age': '>18'},\n",
              " {'Event Name': 'Web designer',\n",
              "  'Category': 'Youth Development',\n",
              "  'Qualifications': ['mentoring', 'team management', 'public relation'],\n",
              "  'Domisili': 'Jawa Barat',\n",
              "  'Age': '>20'},\n",
              " {'Event Name': 'Urban Adventures - Ice Skating at Lasker Rink',\n",
              "  'Category': 'Youth Development',\n",
              "  'Qualifications': ['art therapy', 'tutoring'],\n",
              "  'Domisili': 'Jawa Barat',\n",
              "  'Age': 'All'},\n",
              " {'Event Name': 'Fight global hunger and support women farmers - Join the Oxfam Action Corps in NYC!',\n",
              "  'Category': 'Youth Development',\n",
              "  'Qualifications': ['event planning',\n",
              "   'event coordination',\n",
              "   'public relation'],\n",
              "  'Domisili': 'Indonesia',\n",
              "  'Age': '16-38'},\n",
              " {'Event Name': \"Stop 'N' Swap\",\n",
              "  'Category': 'Youth Development',\n",
              "  'Qualifications': ['volunteer coordination'],\n",
              "  'Domisili': 'Maluku, Banda Neira',\n",
              "  'Age': '18-24'},\n",
              " {'Event Name': \"Queens Stop 'N' Swap\",\n",
              "  'Category': 'Youth Development',\n",
              "  'Qualifications': ['communication', 'leadership training'],\n",
              "  'Domisili': 'Yogyakarta',\n",
              "  'Age': 'All'},\n",
              " {'Event Name': 'Staff Development Trainer',\n",
              "  'Category': 'Youth Development',\n",
              "  'Qualifications': ['content creation', 'public speaking'],\n",
              "  'Domisili': 'Bandung',\n",
              "  'Age': '18-24'},\n",
              " {'Event Name': 'CLARO Brooklyn Volunteer Attorney',\n",
              "  'Category': 'Youth Development',\n",
              "  'Qualifications': ['leadership development', 'public speaking'],\n",
              "  'Domisili': 'Indonesia',\n",
              "  'Age': '17-30'},\n",
              " {'Event Name': 'Join Cents Ability!',\n",
              "  'Category': 'Youth Development',\n",
              "  'Qualifications': ['event planning', 'public relation'],\n",
              "  'Domisili': 'Tangerang',\n",
              "  'Age': '16-38'},\n",
              " {'Event Name': 'Volunteer-Community Health Advocates',\n",
              "  'Category': 'Youth Development',\n",
              "  'Qualifications': ['communication'],\n",
              "  'Domisili': 'Jawa Barat',\n",
              "  'Age': 'All'}]"
            ]
          },
          "metadata": {},
          "execution_count": 13
        }
      ]
    },
    {
      "cell_type": "code",
      "source": [
        "event_index = {event[\"Event Name\"]: idx for idx, event in enumerate(events)}\n",
        "index_event = {idx: event for event, idx in event_index.items()}\n",
        "\n",
        "event_category_index = {category[\"Category\"]: idx for idx, category in enumerate(events)}\n",
        "index_event_category = {idx: category for category, idx in event_category_index.items()}\n",
        "\n",
        "# event_Q_index = {skills[\"Qualifications\"]: idx for idx, skills in enumerate(events)}\n",
        "# index_event_Q = {idx: skills for skills, idx in event_Q_index.items()}"
      ],
      "metadata": {
        "id": "0gnnr3Lkpwly"
      },
      "execution_count": null,
      "outputs": []
    },
    {
      "cell_type": "code",
      "source": [
        "event_category_index[\"Pet and Animal Service\"]\n",
        "# index_event_category[43]"
      ],
      "metadata": {
        "colab": {
          "base_uri": "https://localhost:8080/"
        },
        "id": "y0fX94KkerIn",
        "outputId": "6e0bbb0e-36fa-4fcc-a7a4-f080202b28da"
      },
      "execution_count": null,
      "outputs": [
        {
          "output_type": "execute_result",
          "data": {
            "text/plain": [
              "2785"
            ]
          },
          "metadata": {},
          "execution_count": 15
        }
      ]
    },
    {
      "cell_type": "code",
      "source": [
        "from itertools import chain\n",
        "\n",
        "Qualifications = list(chain(*[event[\"Qualifications\"] for event in events]))\n",
        "print(f\"There are {len(set(Qualifications))} unique skills.\")"
      ],
      "metadata": {
        "colab": {
          "base_uri": "https://localhost:8080/"
        },
        "id": "xdiMFk07PFg2",
        "outputId": "31c78946-9e52-405e-e174-8469006344a0"
      },
      "execution_count": null,
      "outputs": [
        {
          "output_type": "stream",
          "name": "stdout",
          "text": [
            "There are 90 unique skills.\n"
          ]
        }
      ]
    },
    {
      "cell_type": "code",
      "source": [
        "print(Qualifications)"
      ],
      "metadata": {
        "colab": {
          "base_uri": "https://localhost:8080/"
        },
        "id": "2I0LOD1Ys6T3",
        "outputId": "887bb14b-0a6a-4fea-f025-155fd33f40d1"
      },
      "execution_count": null,
      "outputs": [
        {
          "output_type": "stream",
          "name": "stdout",
          "text": [
            "['youth mentoring', 'youth empowerment', 'mentoring', 'team management', 'public relation', 'art therapy', 'tutoring', 'event planning', 'event coordination', 'public relation', 'volunteer coordination', 'communication', 'leadership training', 'content creation', 'public speaking', 'leadership development', 'public speaking', 'event planning', 'public relation', 'communication', 'communication', 'event planning', 'health education', 'public relation', 'communication', 'team building', 'team building', 'environmental education', 'event planning', 'communication', 'teaching', 'volunteer coordination', 'environmental education', 'team building', 'art therapy', 'event coordination', 'english language tutoring', 'volunteer coordination', 'public speaking', 'public speaking', 'public speaking', 'leadership development', 'event coordination', 'leadership development', 'team building', 'public relation', 'leadership development', 'team building', 'art therapy', 'leadership development', 'public relation', 'volunteer management', 'environmental education', 'leadership training', 'team building', 'public relation', 'volunteer management', 'mentoring', 'health education', 'communication', 'volunteer management', 'first aid', 'english language tutoring', 'computer literacy', 'leadership development', 'team building', 'photography', 'leadership training', 'computer literacy', 'leadership training', 'event planning', 'event coordination', 'public relation', 'photography', 'mentoring', 'health education', 'youth mentoring', 'computer literacy', 'leadership training', 'mentoring', 'teaching', 'art therapy', 'mentoring', 'volunteer management', 'content creation', 'public speaking', 'photography', 'youth mentoring', 'public relation', 'health education', 'volunteer coordination', 'team building', 'health education', 'public relation', 'computer literacy', 'content creation', 'event coordination', 'leadership development', 'first aid', 'leadership training', 'leadership development', 'health education', 'mentoring', 'event planning', 'teaching', 'communication', 'computer literacy', 'art therapy', 'event planning', 'health education', 'advocacy', 'advocacy', 'youth mentoring', 'advocacy', 'public relation', 'art therapy', 'health education', 'leadership development', 'event planning', 'event coordination', 'youth mentoring', 'mentoring', 'health education', 'youth mentoring', 'advocacy', 'health education', 'mentoring', 'leadership training', 'teaching', 'public relation', 'event coordination', 'art therapy', 'content creation', 'volunteer management', 'computer literacy', 'first aid', 'health education', 'public relation', 'event planning', 'team building', 'team building', 'public relation', 'photography', 'team building', 'youth mentoring', 'event planning', 'team management', 'english language tutoring', 'communication', 'tutoring', 'teaching', 'content creation', 'content creation', 'content creation', 'public speaking', 'content creation', 'team building', 'first aid', 'team building', 'event planning', 'computer literacy', 'health education', 'content creation', 'public speaking', 'computer literacy', 'leadership development', 'leadership development', 'leadership training', 'communication', 'youth mentoring', 'environmental education', 'leadership training', 'team building', 'volunteer management', 'leadership development', 'volunteer management', 'communication', 'public relation', 'art therapy', 'mentoring', 'tutoring', 'public speaking', 'public speaking', 'advocacy', 'public speaking', 'art therapy', 'computer literacy', 'communication', 'event coordination', 'photography', 'mentoring', 'mentoring', 'public speaking', 'mentoring', 'public speaking', 'teaching', 'content creation', 'english language tutoring', 'event planning', 'volunteer management', 'teaching', 'art therapy', 'leadership development', 'team management', 'public relation', 'mentoring', 'public speaking', 'public relation', 'photography', 'health education', 'photography', 'team management', 'leadership development', 'tutoring', 'youth mentoring', 'event planning', 'youth mentoring', 'public relation', 'first aid', 'art therapy', 'youth mentoring', 'leadership development', 'computer literacy', 'advocacy', 'english language tutoring', 'mentoring', 'teaching', 'communication', 'content creation', 'content creation', 'team building', 'advocacy', 'english language tutoring', 'photography', 'health education', 'volunteer coordination', 'team management', 'teaching', 'first aid', 'public speaking', 'leadership development', 'team management', 'content creation', 'public speaking', 'team building', 'leadership training', 'event planning', 'mentoring', 'public speaking', 'computer literacy', 'health education', 'event planning', 'public relation', 'mentoring', 'team building', 'teaching', 'public relation', 'public speaking', 'art therapy', 'advocacy', 'health education', 'content creation', 'leadership development', 'event coordination', 'communication', 'team management', 'environmental education', 'public speaking', 'content creation', 'youth mentoring', 'public relation', 'public relation', 'mentoring', 'tutoring', 'environmental education', 'content creation', 'english language tutoring', 'advocacy', 'public speaking', 'volunteer coordination', 'team building', 'art therapy', 'youth mentoring', 'photography', 'volunteer coordination', 'event planning', 'event coordination', 'public relation', 'content creation', 'health education', 'environmental education', 'environmental education', 'mentoring', 'public speaking', 'teaching', 'mentoring', 'team building', 'event coordination', 'mentoring', 'event coordination', 'art therapy', 'english language tutoring', 'communication', 'tutoring', 'public relation', 'mentoring', 'leadership development', 'event planning', 'event coordination', 'english language tutoring', 'computer literacy', 'event planning', 'volunteer management', 'art therapy', 'youth mentoring', 'computer literacy', 'event coordination', 'event planning', 'environmental education', 'public speaking', 'volunteer coordination', 'team management', 'volunteer coordination', 'event coordination', 'team building', 'public speaking', 'art therapy', 'leadership development', 'team building', 'leadership development', 'event planning', 'event coordination', 'english language tutoring', 'public speaking', 'content creation', 'team management', 'communication', 'team building', 'volunteer coordination', 'public speaking', 'advocacy', 'communication', 'team management', 'first aid', 'team building', 'english language tutoring', 'environmental education', 'environmental education', 'environmental education', 'event coordination', 'mentoring', 'public speaking', 'mentoring', 'tutoring', 'public relation', 'public speaking', 'english language tutoring', 'mentoring', 'health education', 'youth mentoring', 'communication', 'mentoring', 'leadership training', 'teaching', 'art therapy', 'public speaking', 'art therapy', 'tutoring', 'public speaking', 'public speaking', 'event coordination', 'public relation', 'photography', 'teaching', 'leadership development', 'leadership training', 'volunteer coordination', 'public speaking', 'public relation', 'computer literacy', 'public relation', 'environmental education', 'health education', 'environmental education', 'tutoring', 'communication', 'leadership training', 'content creation', 'english language tutoring', 'event planning', 'event coordination', 'public relation', 'leadership development', 'tutoring', 'english language tutoring', 'public relation', 'leadership development', 'event coordination', 'event planning', 'public relation', 'team building', 'health education', 'environmental education', 'volunteer coordination', 'team management', 'public relation', 'leadership training', 'environmental education', 'mentoring', 'team management', 'teaching', 'environmental education', 'content creation', 'event coordination', 'public relation', 'environmental education', 'english language tutoring', 'leadership development', 'photography', 'team building', 'public relation', 'health education', 'art therapy', 'event coordination', 'volunteer coordination', 'tutoring', 'public speaking', 'public relation', 'leadership training', 'team building', 'communication', 'team building', 'mentoring', 'leadership development', 'leadership training', 'communication', 'health education', 'public speaking', 'english language tutoring', 'art therapy', 'public speaking', 'team management', 'content creation', 'event planning', 'event coordination', 'computer literacy', 'tutoring', 'public speaking', 'volunteer management', 'teaching', 'art therapy', 'english language tutoring', 'volunteer coordination', 'youth mentoring', 'first aid', 'leadership development', 'public speaking', 'mentoring', 'tutoring', 'teaching', 'environmental education', 'team building', 'team building', 'photography', 'health education', 'public relation', 'art therapy', 'leadership development', 'volunteer management', 'mentoring', 'team building', 'english language tutoring', 'event planning', 'tutoring', 'advocacy', 'public speaking', 'art therapy', 'public speaking', 'communication', 'art therapy', 'public relation', 'event planning', 'public relation', 'public relation', 'public relation', 'first aid', 'volunteer management', 'content creation', 'volunteer management', 'computer literacy', 'health education', 'event planning', 'event coordination', 'public relation', 'public speaking', 'public speaking', 'computer literacy', 'communication', 'volunteer management', 'event planning', 'tutoring', 'youth mentoring', 'mentoring', 'tutoring', 'teaching', 'content creation', 'art therapy', 'volunteer management', 'mentoring', 'mentoring', 'public speaking', 'public speaking', 'youth mentoring', 'leadership development', 'event planning', 'youth mentoring', 'public speaking', 'volunteer coordination', 'event planning', 'event coordination', 'public relation', 'public speaking', 'event coordination', 'public relation', 'computer literacy', 'tutoring', 'public speaking', 'health education', 'event planning', 'communication', 'event coordination', 'volunteer coordination', 'youth mentoring', 'content creation', 'communication', 'team building', 'content creation', 'event coordination', 'public relation', 'content creation', 'public relation', 'english language tutoring', 'volunteer coordination', 'event coordination', 'content creation', 'art therapy', 'english language tutoring', 'art therapy', 'public speaking', 'environmental education', 'public relation', 'leadership training', 'team building', 'team building', 'volunteer management', 'public relation', 'advocacy', 'leadership training', 'content creation', 'public speaking', 'art therapy', 'public speaking', 'first aid', 'public speaking', 'event planning', 'team building', 'teaching', 'public relation', 'team building', 'leadership development', 'event coordination', 'public relation', 'volunteer coordination', 'public relation', 'health education', 'art therapy', 'public speaking', 'leadership development', 'tutoring', 'art therapy', 'team management', 'public relation', 'advocacy', 'team building', 'leadership training', 'leadership development', 'leadership training', 'volunteer coordination', 'team building', 'mentoring', 'english language tutoring', 'communication', 'event coordination', 'environmental education', 'teaching', 'environmental education', 'health education', 'public speaking', 'advocacy', 'public speaking', 'mentoring', 'tutoring', 'teaching', 'mentoring', 'team building', 'event planning', 'event coordination', 'volunteer coordination', 'leadership training', 'event planning', 'event coordination', 'volunteer coordination', 'event coordination', 'leadership development', 'team building', 'health education', 'leadership development', 'youth mentoring', 'leadership development', 'leadership training', 'event planning', 'event coordination', 'public speaking', 'team building', 'team building', 'event planning', 'event coordination', 'public relation', 'public relation', 'health education', 'volunteer coordination', 'leadership training', 'leadership development', 'event coordination', 'communication', 'team management', 'environmental education', 'leadership development', 'health education', 'art therapy', 'public speaking', 'public relation', 'communication', 'teaching', 'leadership development', 'health education', 'english language tutoring', 'public speaking', 'art therapy', 'team building', 'youth mentoring', 'content creation', 'event planning', 'event coordination', 'public relation', 'event planning', 'event coordination', 'public relation', 'computer literacy', 'volunteer coordination', 'volunteer management', 'environmental education', 'environmental education', 'event coordination', 'public relation', 'leadership development', 'public relation', 'communication', 'volunteer management', 'volunteer coordination', 'health education', 'communication', 'volunteer management', 'leadership development', 'event coordination', 'public relation', 'leadership development', 'volunteer management', 'event planning', 'volunteer management', 'environmental education', 'advocacy', 'content creation', 'volunteer management', 'event planning', 'public relation', 'team building', 'environmental education', 'team management', 'art therapy', 'computer literacy', 'event planning', 'event coordination', 'public relation', 'art therapy', 'public speaking', 'volunteer coordination', 'team building', 'environmental education', 'event planning', 'leadership training', 'public relation', 'first aid', 'public relation', 'health education', 'content creation', 'public speaking', 'communication', 'public speaking', 'team building', 'leadership training', 'computer literacy', 'leadership training', 'public relation', 'team building', 'volunteer coordination', 'volunteer management', 'event planning', 'event coordination', 'art therapy', 'mentoring', 'tutoring', 'teaching', 'public relation', 'leadership training', 'communication', 'public speaking', 'first aid', 'leadership training', 'team building', 'english language tutoring', 'photography', 'volunteer management', 'public speaking', 'tutoring', 'medical coding', 'data analysis', 'computer literacy', 'data analysis', 'computer programming', 'customer service', 'emergency response', 'administrative tasks', 'data analysis', 'computer literacy', 'computer literacy', 'lab technician', 'data management', 'computer programming', 'data management', 'web development', 'visual comunication', 'computer programming', 'data analysis', 'customer service', 'computer programming', 'data analysis', 'computer literacy', 'computer literacy', 'computer literacy', 'graphic design', 'data analysis', 'customer service', 'emergency response', 'creative design', 'database management', 'web development', 'data analysis', 'data management', 'web development', 'database management', 'photography', 'visual comunication', 'emergency response', 'creative design', 'data management', 'emergency response', 'web development', 'web development', 'database management', 'web development', 'data analysis', 'lab technician', 'computer literacy', 'database management', 'creative design', 'database management', 'web development', 'data analysis', 'web development', 'computer programming', 'customer service', 'web development', 'data analysis', 'lab technician', 'graphic design', 'web development', 'customer service', 'web development', 'data analysis', 'data analysis', 'computer programming', 'computer literacy', 'data management', 'data analysis', 'computer literacy', 'web development', 'data analysis', 'computer literacy', 'visual comunication', 'graphic design', 'creative design', 'graphic design', 'web development', 'lab technician', 'emergency response', 'creative design', 'customer service', 'lab assistance', 'computer literacy', 'customer service', 'emergency response', 'administrative tasks', 'data analysis', 'computer literacy', 'computer literacy', 'web development', 'computer programming', 'lab technician', 'computer literacy', 'database management', 'graphic design', 'administrative tasks', 'data analysis', 'computer literacy', 'computer literacy', 'visual comunication', 'graphic design', 'creative design', 'web development', 'lab assistance', 'lab technician', 'creative design', 'data analysis', 'lab assistance', 'computer literacy', 'data analysis', 'computer literacy', 'computer literacy', 'lab technician', 'computer programming', 'computer literacy', 'lab technician', 'computer literacy', 'graphic design', 'emergency response', 'database management', 'web development', 'administrative tasks', 'visual comunication', 'graphic design', 'creative design', 'customer service', 'emergency response', 'administrative tasks', 'database management', 'web development', 'computer literacy', 'web development', 'computer programming', 'data management', 'data analysis', 'data analysis', 'computer literacy', 'lab assistance', 'web development', 'computer literacy', 'web development', 'visual comunication', 'graphic design', 'creative design', 'graphic design', 'graphic design', 'graphic design', 'photography', 'customer service', 'web development', 'administrative tasks', 'customer service', 'web development', 'data analysis', 'web development', 'computer programming', 'data analysis', 'web development', 'visual comunication', 'graphic design', 'database management', 'web development', 'data analysis', 'database management', 'computer literacy', 'computer literacy', 'customer service', 'lab assistance', 'web development', 'computer literacy', 'computer literacy', 'database management', 'lab assistance', 'data analysis', 'data management', 'photography', 'customer service', 'data management', 'computer literacy', 'photography', 'database management', 'data analysis', 'graphic design', 'computer literacy', 'computer programming', 'visual comunication', 'graphic design', 'computer literacy', 'visual comunication', 'graphic design', 'creative design', 'lab technician', 'computer programming', 'data analysis', 'computer literacy', 'computer literacy', 'graphic design', 'computer literacy', 'computer literacy', 'data management', 'computer literacy', 'lab technician', 'lab assistance', 'data analysis', 'web development', 'photography', 'computer literacy', 'administrative tasks', 'graphic design', 'administrative tasks', 'graphic design', 'web development', 'data analysis', 'computer literacy', 'data analysis', 'computer programming', 'computer literacy', 'customer service', 'web development', 'creative design', 'data analysis', 'web development', 'database management', 'web development', 'photography', 'computer literacy', 'computer programming', 'photography', 'data analysis', 'graphic design', 'web development', 'data analysis', 'computer literacy', 'data management', 'computer literacy', 'database management', 'computer programming', 'web development', 'data management', 'computer literacy', 'data management', 'web development', 'data analysis', 'graphic design', 'computer literacy', 'web development', 'database management', 'lab technician', 'web development', 'data analysis', 'database management', 'emergency response', 'data analysis', 'visual comunication', 'web development', 'customer service', 'lab assistance', 'graphic design', 'computer programming', 'data analysis', 'database management', 'web development', 'photography', 'web development', 'lab assistance', 'data analysis', 'computer literacy', 'web development', 'data analysis', 'data analysis', 'customer service', 'creative design', 'computer literacy', 'web development', 'database management', 'emergency response', 'computer literacy', 'data management', 'administrative tasks', 'data management', 'computer literacy', 'data analysis', 'graphic design', 'administrative tasks', 'database management', 'web development', 'data analysis', 'data analysis', 'computer programming', 'computer literacy', 'database management', 'emergency response', 'creative design', 'visual comunication', 'graphic design', 'photography', 'web development', 'computer programming', 'web development', 'database management', 'lab assistance', 'data analysis', 'web development', 'photography', 'graphic design', 'computer literacy', 'customer service', 'computer programming', 'data analysis', 'graphic design', 'photography', 'data management', 'photography', 'data management', 'computer literacy', 'data management', 'web development', 'computer literacy', 'computer programming', 'computer literacy', 'photography', 'graphic design', 'emergency response', 'administrative tasks', 'data management', 'web development', 'lab technician', 'lab assistance', 'lab technician', 'computer programming', 'web development', 'computer programming', 'data management', 'lab technician', 'computer programming', 'computer literacy', 'computer literacy', 'computer literacy', 'data analysis', 'computer programming', 'visual comunication', 'graphic design', 'visual comunication', 'web development', 'lab technician', 'web development', 'creative design', 'computer literacy', 'emergency response', 'photography', 'database management', 'computer programming', 'administrative tasks', 'graphic design', 'web development', 'data analysis', 'customer service', 'emergency response', 'data analysis', 'data management', 'graphic design', 'database management', 'computer programming', 'data analysis', 'database management', 'web development', 'data analysis', 'graphic design', 'administrative tasks', 'lab technician', 'lab assistance', 'database management', 'web development', 'data analysis', 'lab technician', 'computer programming', 'data management', 'lab assistance', 'lab technician', 'computer programming', 'computer literacy', 'web development', 'database management', 'web development', 'computer literacy', 'customer service', 'administrative tasks', 'web development', 'graphic design', 'web development', 'visual comunication', 'photography', 'database management', 'computer literacy', 'data analysis', 'customer service', 'lab assistance', 'data analysis', 'lab technician', 'creative design', 'visual comunication', 'computer literacy', 'computer literacy', 'graphic design', 'computer programming', 'visual comunication', 'graphic design', 'web development', 'visual comunication', 'emergency response', 'administrative tasks', 'data analysis', 'web development', 'data analysis', 'data analysis', 'computer programming', 'database management', 'computer literacy', 'web development', 'lab assistance', 'web development', 'computer programming', 'computer literacy', 'graphic design', 'computer literacy', 'database management', 'web development', 'administrative tasks', 'lab technician', 'lab technician', 'lab assistance', 'computer literacy', 'web development', 'emergency response', 'data analysis', 'graphic design', 'lab assistance', 'web development', 'lab technician', 'emergency response', 'data analysis', 'computer literacy', 'computer literacy', 'customer service', 'computer literacy', 'graphic design', 'graphic design', 'computer literacy', 'graphic design', 'photography', 'graphic design', 'emergency response', 'lab technician', 'web development', 'data analysis', 'visual comunication', 'emergency response', 'graphic design', 'computer programming', 'creative design', 'customer service', 'emergency response', 'administrative tasks', 'lab technician', 'emergency response', 'computer literacy', 'graphic design', 'web development', 'computer programming', 'administrative tasks', 'graphic design', 'graphic design', 'computer literacy', 'graphic design', 'web development', 'web development', 'customer service', 'emergency response', 'creative design', 'data analysis', 'computer literacy', 'photography', 'database management', 'web development', 'data analysis', 'graphic design', 'web development', 'lab technician', 'graphic design', 'creative design', 'data management', 'computer programming', 'web development', 'lab technician', 'lab assistance', 'database management', 'computer literacy', 'data analysis', 'lab technician', 'database management', 'computer literacy', 'data management', 'photography', 'web development', 'computer programming', 'web development', 'computer literacy', 'computer literacy', 'data analysis', 'computer literacy', 'computer literacy', 'lab technician', 'lab technician', 'creative design', 'data management', 'photography', 'data analysis', 'computer programming', 'computer literacy', 'web development', 'emergency response', 'data analysis', 'administrative tasks', 'lab technician', 'computer literacy', 'web development', 'database management', 'web development', 'computer literacy', 'data analysis', 'computer literacy', 'photography', 'visual comunication', 'web development', 'data analysis', 'visual comunication', 'emergency response', 'visual comunication', 'computer programming', 'visual comunication', 'creative design', 'computer literacy', 'database management', 'emergency response', 'photography', 'graphic design', 'web development', 'database management', 'web development', 'data analysis', 'graphic design', 'web development', 'computer literacy', 'emergency response', 'customer service', 'web development', 'data analysis', 'lab technician', 'data management', 'web development', 'administrative tasks', 'computer literacy', 'computer literacy', 'visual comunication', 'graphic design', 'creative design', 'visual comunication', 'creative design', 'data analysis', 'computer literacy', 'administrative tasks', 'graphic design', 'web development', 'administrative tasks', 'graphic design', 'web development', 'data analysis', 'graphic design', 'administrative tasks', 'data management', 'customer service', 'visual comunication', 'emergency response', 'web development', 'customer service', 'graphic design', 'creative design', 'data analysis', 'lab assistance', 'computer literacy', 'data analysis', 'graphic design', 'web development', 'emergency response', 'administrative tasks', 'graphic design', 'administrative tasks', 'database management', 'computer programming', 'photography', 'lab technician', 'graphic design', 'lab technician', 'emergency response', 'administrative tasks', 'database management', 'emergency response', 'data analysis', 'database management', 'computer literacy', 'administrative tasks', 'data analysis', 'database management', 'computer literacy', 'lab technician', 'lab assistance', 'graphic design', 'creative design', 'web development', 'computer literacy', 'graphic design', 'web development', 'customer service', 'web development', 'data analysis', 'lab technician', 'computer programming', 'administrative tasks', 'database management', 'web development', 'photography', 'database management', 'web development', 'data analysis', 'graphic design', 'photography', 'lab technician', 'lab assistance', 'data analysis', 'emergency response', 'lab technician', 'web development', 'graphic design', 'data analysis', 'web development', 'lab assistance', 'photography', 'customer service', 'computer programming', 'database management', 'emergency response', 'visual comunication', 'photography', 'graphic design', 'visual comunication', 'graphic design', 'database management', 'web development', 'creative design', 'visual comunication', 'graphic design', 'web development', 'lab technician', 'database management', 'computer programming', 'database management', 'photography', 'database management', 'web development', 'customer service', 'computer programming', 'data analysis', 'computer literacy', 'computer literacy', 'customer service', 'computer literacy', 'photography', 'web development', 'computer literacy', 'computer literacy', 'graphic design', 'data analysis', 'emergency response', 'database management', 'computer programming', 'creative design', 'computer literacy', 'web development', 'administrative tasks', 'database management', 'computer literacy', 'data analysis', 'database management', 'lab assistance', 'data analysis', 'database management', 'lab assistance', 'customer service', 'emergency response', 'administrative tasks', 'visual comunication', 'graphic design', 'creative design', 'lab technician', 'web development', 'data analysis', 'data management', 'photography', 'data analysis', 'computer literacy', 'computer literacy', 'photography', 'data analysis', 'emergency response', 'computer literacy', 'web development', 'visual comunication', 'administrative tasks', 'graphic design', 'database management', 'computer literacy', 'data analysis', 'web development', 'graphic design', 'database management', 'data analysis', 'computer literacy', 'computer programming', 'database management', 'computer literacy', 'computer literacy', 'graphic design', 'data analysis', 'data management', 'web development', 'computer programming', 'data management', 'lab technician', 'web development', 'administrative tasks', 'database management', 'web development', 'database management', 'web development', 'creative design', 'lab technician', 'database management', 'computer literacy', 'lab technician', 'lab assistance', 'database management', 'web development', 'data analysis', 'lab technician', 'database management', 'data management', 'web development', 'database management', 'web development', 'data analysis', 'lab technician', 'computer programming', 'data management', 'computer literacy', 'lab technician', 'graphic design', 'database management', 'computer literacy', 'administrative tasks', 'graphic design', 'administrative tasks', 'database management', 'web development', 'creative design', 'computer literacy', 'web development', 'computer programming', 'computer literacy', 'lab technician', 'lab assistance', 'computer literacy', 'web development', 'lab assistance', 'web development', 'graphic design', 'data management', 'computer literacy', 'data analysis', 'data management', 'customer service', 'computer literacy', 'computer literacy', 'web development', 'graphic design', 'web development', 'visual comunication', 'graphic design', 'data analysis', 'graphic design', 'photography', 'database management', 'computer literacy', 'computer literacy', 'lab technician', 'computer programming', 'data analysis', 'computer programming', 'lab technician', 'lab assistance', 'photography', 'database management', 'data management', 'emergency response', 'data analysis', 'data management', 'web development', 'web development', 'data analysis', 'computer literacy', 'computer literacy', 'data analysis', 'web development', 'computer literacy', 'graphic design', 'computer programming', 'data analysis', 'customer service', 'web development', 'administrative tasks', 'computer literacy', 'web development', 'creative design', 'customer service', 'web development', 'data analysis', 'data analysis', 'computer literacy', 'visual comunication', 'computer programming', 'computer literacy', 'customer service', 'emergency response', 'administrative tasks', 'data analysis', 'computer literacy', 'computer literacy', 'visual comunication', 'lab assistance', 'creative design', 'computer literacy', 'creative design', 'computer literacy', 'photography', 'visual comunication', 'graphic design', 'administrative tasks', 'data management', 'photography', 'lab technician', 'computer literacy', 'computer literacy', 'customer service', 'computer programming', 'graphic design', 'computer literacy', 'graphic design', 'computer literacy', 'creative design', 'data analysis', 'emergency response', 'creative design', 'database management', 'photography', 'graphic design', 'web development', 'database management', 'graphic design', 'computer literacy', 'web development', 'graphic design', 'administrative tasks', 'visual comunication', 'administrative tasks', 'graphic design', 'computer literacy', 'creative design', 'web development', 'computer programming', 'customer service', 'computer programming', 'administrative tasks', 'data analysis', 'computer literacy', 'computer literacy', 'web development', 'lab technician', 'lab assistance', 'data management', 'computer literacy', 'computer programming', 'lab technician', 'computer programming', 'data management', 'photography', 'database management', 'graphic design', 'creative design', 'database management', 'computer programming', 'computer literacy', 'visual comunication', 'lab assistance', 'administrative tasks', 'web development', 'lab assistance', 'graphic design', 'web development', 'customer service', 'graphic design', 'data analysis', 'visual comunication', 'computer programming', 'creative design', 'lab technician', 'computer literacy', 'computer literacy', 'data management', 'lab assistance', 'photography', 'visual comunication', 'web development', 'administrative tasks', 'environmental education', 'wildlife rehabilitation', 'gardening', 'environmental activism', 'environmental activism', 'environmental education', 'gardening', 'conservation', 'environmental conservation', 'gardening', 'environmental education', 'conservation', 'wildlife rehabilitation', 'wildlife rehabilitation', 'environmental activism', 'environmental activism', 'wildlife rehabilitation', 'gardening', 'environmental conservation', 'wildlife conservation', 'wildlife rehabilitation', 'gardening', 'wildlife rehabilitation', 'environmental activism', 'environmental education', 'gardening', 'wildlife conservation', 'conservation', 'wildlife rehabilitation', 'wildlife rehabilitation', 'environmental activism', 'wildlife rehabilitation', 'gardening', 'gardening', 'environmental education', 'conservation', 'wildlife rehabilitation', 'wildlife rehabilitation', 'environmental conservation', 'environmental activism', 'environmental advocacy', 'wildlife rehabilitation', 'environmental advocacy', 'gardening', 'urban farming', 'wildlife conservation', 'wildlife rehabilitation', 'environmental activism', 'wildlife rehabilitation', 'wildlife conservation', 'conservation', 'wildlife rehabilitation', 'environmental conservation', 'environmental activism', 'environmental advocacy', 'conservation', 'urban farming', 'wildlife rehabilitation', 'urban farming', 'gardening', 'environmental conservation', 'wildlife rehabilitation', 'gardening', 'wildlife rehabilitation', 'gardening', 'camping', 'gardening', 'environmental conservation', 'environmental conservation', 'environmental activism', 'gardening', 'urban farming', 'conservation', 'urban farming', 'gardening', 'wildlife rehabilitation', 'gardening', 'conservation', 'urban farming', 'wildlife conservation', 'conservation', 'wildlife rehabilitation', 'camping', 'conservation', 'wildlife rehabilitation', 'wildlife conservation', 'urban farming', 'wildlife rehabilitation', 'gardening', 'urban farming', 'environmental advocacy', 'environmental education', 'environmental advocacy', 'wildlife rehabilitation', 'gardening', 'conservation', 'environmental education', 'camping', 'wildlife rehabilitation', 'environmental activism', 'environmental conservation', 'environmental advocacy', 'conservation', 'environmental activism', 'environmental advocacy', 'environmental conservation', 'environmental activism', 'gardening', 'environmental activism', 'environmental education', 'gardening', 'environmental conservation', 'camping', 'urban farming', 'gardening', 'gardening', 'conservation', 'environmental conservation', 'conservation', 'environmental conservation', 'gardening', 'wildlife conservation', 'conservation', 'wildlife rehabilitation', 'environmental education', 'urban farming', 'conservation', 'environmental conservation', 'environmental education', 'camping', 'environmental education', 'gardening', 'gardening', 'environmental conservation', 'wildlife rehabilitation', 'camping', 'wildlife rehabilitation', 'environmental advocacy', 'environmental conservation', 'conservation', 'environmental advocacy', 'environmental education', 'gardening', 'environmental education', 'wildlife rehabilitation', 'environmental education', 'camping', 'gardening', 'gardening', 'environmental activism', 'gardening', 'wildlife rehabilitation', 'gardening', 'wildlife rehabilitation', 'gardening', 'urban farming', 'wildlife rehabilitation', 'environmental education', 'camping', 'wildlife conservation', 'conservation', 'environmental advocacy', 'environmental activism', 'environmental conservation', 'gardening', 'wildlife conservation', 'conservation', 'wildlife rehabilitation', 'camping', 'gardening', 'wildlife rehabilitation', 'wildlife rehabilitation', 'camping', 'environmental conservation', 'camping', 'wildlife rehabilitation', 'environmental education', 'environmental education', 'conservation', 'environmental conservation', 'gardening', 'urban farming', 'wildlife rehabilitation', 'environmental conservation', 'environmental activism', 'gardening', 'conservation', 'urban farming', 'environmental activism', 'gardening', 'gardening', 'wildlife rehabilitation', 'wildlife conservation', 'environmental conservation', 'conservation', 'environmental conservation', 'environmental activism', 'environmental advocacy', 'gardening', 'conservation', 'wildlife rehabilitation', 'environmental advocacy', 'environmental conservation', 'environmental activism', 'environmental advocacy', 'gardening', 'environmental conservation', 'environmental advocacy', 'camping', 'environmental advocacy', 'environmental activism', 'conservation', 'environmental activism', 'camping', 'gardening', 'urban farming', 'environmental education', 'wildlife rehabilitation', 'camping', 'wildlife rehabilitation', 'environmental conservation', 'wildlife rehabilitation', 'environmental conservation', 'environmental activism', 'environmental advocacy', 'gardening', 'urban farming', 'conservation', 'environmental conservation', 'environmental conservation', 'conservation', 'wildlife rehabilitation', 'environmental activism', 'gardening', 'conservation', 'environmental conservation', 'environmental advocacy', 'wildlife rehabilitation', 'gardening', 'environmental education', 'camping', 'conservation', 'urban farming', 'gardening', 'conservation', 'wildlife rehabilitation', 'wildlife rehabilitation', 'urban farming', 'camping', 'urban farming', 'conservation', 'conservation', 'wildlife rehabilitation', 'environmental conservation', 'environmental activism', 'environmental education', 'camping', 'environmental conservation', 'environmental activism', 'environmental advocacy', 'wildlife conservation', 'conservation', 'wildlife rehabilitation', 'environmental education', 'camping', 'wildlife rehabilitation', 'camping', 'gardening', 'environmental conservation', 'camping', 'environmental conservation', 'environmental activism', 'environmental advocacy', 'environmental activism', 'environmental conservation', 'environmental activism', 'environmental advocacy', 'environmental education', 'conservation', 'wildlife rehabilitation', 'environmental education', 'conservation', 'wildlife rehabilitation', 'camping', 'wildlife rehabilitation', 'environmental conservation', 'environmental activism', 'environmental advocacy', 'environmental education', 'wildlife rehabilitation', 'wildlife conservation', 'wildlife rehabilitation', 'camping', 'environmental activism', 'wildlife rehabilitation', 'environmental education', 'camping', 'conservation', 'urban farming', 'conservation', 'environmental conservation', 'wildlife rehabilitation', 'environmental activism', 'environmental education', 'camping', 'environmental activism', 'camping', 'environmental conservation', 'wildlife rehabilitation', 'wildlife rehabilitation', 'gardening', 'environmental education', 'camping', 'wildlife conservation', 'conservation', 'wildlife rehabilitation', 'environmental activism', 'environmental education', 'urban farming', 'environmental activism', 'environmental activism', 'gardening', 'conservation', 'environmental education', 'environmental activism', 'conservation', 'gardening', 'gardening', 'environmental conservation', 'environmental activism', 'environmental conservation', 'environmental advocacy', 'environmental education', 'conservation', 'wildlife rehabilitation', 'environmental conservation', 'environmental activism', 'conservation', 'conservation', 'wildlife rehabilitation', 'gardening', 'wildlife conservation', 'environmental activism', 'environmental activism', 'camping', 'wildlife rehabilitation', 'camping', 'wildlife rehabilitation', 'wildlife rehabilitation', 'environmental activism', 'wildlife rehabilitation', 'camping', 'conservation', 'gardening', 'urban farming', 'conservation', 'urban farming', 'camping', 'wildlife rehabilitation', 'camping', 'wildlife rehabilitation', 'gardening', 'gardening', 'urban farming', 'gardening', 'gardening', 'urban farming', 'environmental education', 'camping', 'wildlife rehabilitation', 'environmental activism', 'conservation', 'urban farming', 'environmental education', 'camping', 'environmental conservation', 'environmental activism', 'environmental advocacy', 'wildlife rehabilitation', 'conservation', 'wildlife rehabilitation', 'wildlife rehabilitation', 'wildlife rehabilitation', 'camping', 'wildlife rehabilitation', 'gardening', 'conservation', 'environmental conservation', 'wildlife rehabilitation', 'conservation', 'wildlife rehabilitation', 'wildlife conservation', 'environmental activism', 'gardening', 'environmental activism', 'wildlife conservation', 'environmental conservation', 'wildlife rehabilitation', 'environmental activism', 'camping', 'wildlife rehabilitation', 'camping', 'conservation', 'urban farming', 'camping', 'conservation', 'wildlife rehabilitation', 'environmental activism', 'camping', 'wildlife conservation', 'conservation', 'wildlife rehabilitation', 'environmental conservation', 'environmental activism', 'environmental advocacy', 'environmental education', 'gardening', 'urban farming', 'camping', 'camping', 'camping', 'wildlife rehabilitation', 'conservation', 'environmental conservation', 'conservation', 'conservation', 'environmental conservation', 'wildlife conservation', 'conservation', 'wildlife rehabilitation', 'environmental activism', 'camping', 'gardening', 'environmental conservation', 'wildlife conservation', 'conservation', 'wildlife rehabilitation', 'wildlife rehabilitation', 'gardening', 'wildlife rehabilitation', 'environmental activism', 'camping', 'gardening', 'wildlife conservation', 'conservation', 'environmental education', 'wildlife rehabilitation', 'environmental advocacy', 'environmental conservation', 'urban farming', 'environmental conservation', 'environmental activism', 'conservation', 'environmental advocacy', 'environmental education', 'camping', 'environmental conservation', 'environmental activism', 'environmental advocacy', 'camping', 'environmental conservation', 'camping', 'environmental activism', 'environmental education', 'urban farming', 'conservation', 'urban farming', 'conservation', 'wildlife conservation', 'environmental activism', 'environmental advocacy', 'camping', 'gardening', 'environmental activism', 'environmental conservation', 'conservation', 'environmental advocacy', 'environmental conservation', 'environmental activism', 'wildlife rehabilitation', 'wildlife rehabilitation', 'environmental activism', 'environmental advocacy', 'environmental education', 'camping', 'conservation', 'urban farming', 'environmental conservation', 'environmental advocacy', 'conservation', 'environmental conservation', 'gardening', 'environmental conservation', 'environmental activism', 'wildlife conservation', 'conservation', 'wildlife rehabilitation', 'wildlife conservation', 'conservation', 'wildlife rehabilitation', 'wildlife rehabilitation', 'gardening', 'conservation', 'environmental conservation', 'environmental activism', 'environmental advocacy', 'wildlife rehabilitation', 'gardening', 'wildlife rehabilitation', 'gardening', 'environmental education', 'environmental activism', 'camping', 'wildlife rehabilitation', 'gardening', 'gardening', 'environmental activism', 'wildlife rehabilitation', 'camping', 'wildlife rehabilitation', 'wildlife conservation', 'conservation', 'wildlife rehabilitation', 'gardening', 'environmental conservation', 'conservation', 'wildlife rehabilitation', 'wildlife rehabilitation', 'wildlife rehabilitation', 'gardening', 'environmental activism', 'environmental activism', 'wildlife rehabilitation', 'wildlife rehabilitation', 'gardening', 'gardening', 'urban farming', 'environmental conservation', 'environmental activism', 'environmental advocacy', 'wildlife rehabilitation', 'gardening', 'wildlife conservation', 'conservation', 'wildlife rehabilitation', 'wildlife rehabilitation', 'environmental conservation', 'wildlife conservation', 'conservation', 'wildlife rehabilitation', 'wildlife rehabilitation', 'environmental activism', 'gardening', 'environmental conservation', 'wildlife rehabilitation', 'wildlife rehabilitation', 'urban farming', 'environmental activism', 'conservation', 'environmental activism', 'urban farming', 'environmental advocacy', 'environmental activism', 'wildlife rehabilitation', 'gardening', 'urban farming', 'wildlife rehabilitation', 'wildlife rehabilitation', 'wildlife rehabilitation', 'environmental advocacy', 'environmental activism', 'environmental conservation', 'camping', 'wildlife rehabilitation', 'wildlife conservation', 'conservation', 'wildlife rehabilitation', 'conservation', 'environmental conservation', 'wildlife rehabilitation', 'gardening', 'camping', 'camping', 'wildlife conservation', 'conservation', 'wildlife rehabilitation', 'wildlife conservation', 'conservation', 'wildlife rehabilitation', 'conservation', 'conservation', 'environmental education', 'gardening', 'wildlife conservation', 'environmental activism', 'wildlife rehabilitation', 'conservation', 'conservation', 'conservation', 'urban farming', 'environmental education', 'camping', 'wildlife rehabilitation', 'camping', 'wildlife rehabilitation', 'environmental activism', 'wildlife rehabilitation', 'environmental conservation', 'urban farming', 'environmental conservation', 'environmental activism', 'environmental advocacy', 'wildlife rehabilitation', 'gardening', 'urban farming', 'wildlife rehabilitation', 'gardening', 'wildlife rehabilitation', 'gardening', 'environmental conservation', 'camping', 'conservation', 'urban farming', 'environmental conservation', 'environmental activism', 'conservation', 'gardening', 'environmental advocacy', 'camping', 'conservation', 'environmental conservation', 'environmental activism', 'wildlife rehabilitation', 'environmental activism', 'gardening', 'environmental education', 'urban farming', 'environmental conservation', 'conservation', 'urban farming', 'camping', 'urban farming', 'wildlife rehabilitation', 'gardening', 'gardening', 'urban farming', 'environmental conservation', 'environmental activism', 'environmental advocacy', 'environmental conservation', 'environmental advocacy', 'wildlife rehabilitation', 'gardening', 'environmental conservation', 'wildlife rehabilitation', 'gardening', 'environmental education', 'camping', 'gardening', 'environmental conservation', 'environmental activism', 'environmental advocacy', 'environmental activism', 'conservation', 'camping', 'conservation', 'urban farming', 'camping', 'environmental activism', 'environmental conservation', 'urban farming', 'environmental activism', 'environmental conservation', 'environmental education', 'camping', 'environmental conservation', 'camping', 'environmental education', 'wildlife rehabilitation', 'gardening', 'camping', 'environmental conservation', 'wildlife rehabilitation', 'wildlife rehabilitation', 'gardening', 'gardening', 'environmental conservation', 'environmental advocacy', 'environmental conservation', 'environmental activism', 'environmental advocacy', 'environmental activism', 'camping', 'wildlife rehabilitation', 'environmental conservation', 'gardening', 'camping', 'environmental activism', 'gardening', 'urban farming', 'conservation', 'environmental conservation', 'environmental conservation', 'gardening', 'wildlife conservation', 'conservation', 'wildlife rehabilitation', 'environmental education', 'camping', 'environmental education', 'camping', 'wildlife rehabilitation', 'conservation', 'environmental activism', 'wildlife rehabilitation', 'wildlife rehabilitation', 'gardening', 'environmental conservation', 'environmental activism', 'wildlife rehabilitation', 'gardening', 'wildlife conservation', 'conservation', 'wildlife rehabilitation', 'conservation', 'urban farming', 'camping', 'wildlife conservation', 'conservation', 'wildlife rehabilitation', 'wildlife rehabilitation', 'gardening', 'camping', 'urban farming', 'environmental education', 'camping', 'environmental activism', 'environmental conservation', 'wildlife rehabilitation', 'camping', 'conservation', 'urban farming', 'gardening', 'environmental conservation', 'wildlife conservation', 'conservation', 'wildlife rehabilitation', 'environmental conservation', 'environmental advocacy', 'wildlife rehabilitation', 'environmental conservation', 'conservation', 'camping', 'wildlife rehabilitation', 'environmental conservation', 'environmental activism', 'environmental advocacy', 'health education', 'crisis intervention', 'healthcare', 'geriatric care', 'lab technician', 'first aid', 'geriatric care', 'research', 'healthcare', 'medical research', 'research', 'occupational therapy', 'special needs support', 'childcare', 'nutrition', 'rehabilitation', 'healthcare', 'geriatric care', 'elderly care', 'first aid', 'mental health counseling', 'mental health support', 'medical coding', 'mental health counseling', 'rehabilitation', 'nursing', 'medical research', 'medical assistance', 'medical research', 'mental health support', 'medical assistance', 'lab assistance', 'childcare', 'diet planning', 'clinical research', 'childcare', 'counseling', 'mental health counseling', 'mental health support', 'first aid', 'clinical research', 'lab technician', 'medical coding', 'geriatric care', 'first aid', 'nutrition', 'special needs support', 'lab technician', 'counseling', 'physical therapy', 'mental health support', 'medical coding', 'geriatric care', 'childcare', 'occupational therapy', 'clinical research', 'first aid', 'medical assistance', 'clinical research', 'elderly care', 'diet planning', 'medical research', 'elderly care', 'medical assistance', 'lab assistance', 'childcare', 'first aid', 'medical research', 'first aid', 'occupational therapy', 'first aid', 'medical research', 'research', 'nutrition', 'elderly care', 'medical assistance', 'physical therapy', 'childcare', 'nutrition', 'medical research', 'childcare', 'medical coding', 'special needs support', 'lab technician', 'medical coding', 'first aid', 'diet planning', 'mental health counseling', 'medical assistance', 'lab assistance', 'lab technician', 'first aid', 'medical research', 'first aid', 'occupational therapy', 'lab assistance', 'lab technician', 'medical assistance', 'special needs support', 'lab technician', 'counseling', 'mental health counseling', 'mental health support', 'healthcare', 'medical research', 'elderly care', 'healthcare', 'physical therapy', 'childcare', 'nursing', 'special needs support', 'healthcare', 'physical therapy', 'elderly care', 'medical coding', 'lab assistance', 'healthcare', 'geriatric care', 'elderly care', 'counseling', 'geriatric care', 'occupational therapy', 'lab assistance', 'lab technician', 'healthcare', 'mental health counseling', 'occupational therapy', 'medical research', 'lab technician', 'occupational therapy', 'special needs support', 'lab technician', 'medical assistance', 'geriatric care', 'first aid', 'nutrition', 'medical research', 'mental health support', 'nutrition', 'childcare', 'first aid', 'lab assistance', 'research', 'healthcare', 'special needs support', 'research', 'counseling', 'lab assistance', 'lab technician', 'occupational therapy', 'physical therapy', 'childcare', 'occupational therapy', 'physical therapy', 'nutrition', 'lab assistance', 'first aid', 'medical assistance', 'lab assistance', 'lab technician', 'counseling', 'geriatric care', 'childcare', 'nursing', 'counseling', 'mental health counseling', 'elderly care', 'diet planning', 'physical therapy', 'mental health support', 'first aid', 'medical research', 'lab technician', 'healthcare', 'geriatric care', 'elderly care', 'medical coding', 'special needs support', 'counseling', 'medical research', 'research', 'medical assistance', 'physical therapy', 'lab technician', 'nutrition', 'lab technician', 'nursing', 'special needs support', 'lab technician', 'healthcare', 'geriatric care', 'healthcare', 'geriatric care', 'elderly care', 'diet planning', 'mental health counseling', 'mental health support', 'occupational therapy', 'physical therapy', 'childcare', 'nursing', 'occupational therapy', 'first aid', 'nutrition', 'medical research', 'first aid', 'nutrition', 'mental health counseling', 'medical coding', 'mental health counseling', 'mental health support', 'diet planning', 'clinical research', 'first aid', 'diet planning', 'first aid', 'occupational therapy', 'mental health counseling', 'counseling', 'special needs support', 'rehabilitation', 'diet planning', 'clinical research', 'first aid', 'nursing', 'special needs support', 'healthcare', 'geriatric care', 'lab technician', 'occupational therapy', 'lab assistance', 'rehabilitation', 'first aid', 'research', 'first aid', 'medical research', 'elderly care', 'occupational therapy', 'clinical research', 'mental health support', 'nutrition', 'special needs support', 'occupational therapy', 'physical therapy', 'first aid', 'medical research', 'research', 'occupational therapy', 'special needs support', 'first aid', 'first aid', 'medical research', 'first aid', 'medical assistance', 'medical research', 'lab technician', 'nutrition', 'mental health counseling', 'medical coding', 'geriatric care', 'first aid', 'diet planning', 'medical coding', 'mental health counseling', 'rehabilitation', 'counseling', 'lab assistance', 'lab technician', 'diet planning', 'mental health counseling', 'research', 'healthcare', 'special needs support', 'research', 'counseling', 'special needs support', 'diet planning', 'clinical research', 'research', 'nutrition', 'physical therapy', 'first aid', 'nursing', 'medical research', 'first aid', 'geriatric care', 'research', 'medical assistance', 'physical therapy', 'lab technician', 'nursing', 'special needs support', 'childcare', 'medical coding', 'elderly care', 'nutrition', 'clinical research', 'first aid', 'first aid', 'occupational therapy', 'geriatric care', 'first aid', 'occupational therapy', 'lab assistance', 'mental health support', 'medical coding', 'medical research', 'research', 'diet planning', 'clinical research', 'research', 'medical assistance', 'physical therapy', 'occupational therapy', 'physical therapy', 'childcare', 'healthcare', 'physical therapy', 'childcare', 'occupational therapy', 'medical research', 'mental health support', 'medical coding', 'geriatric care', 'rehabilitation', 'medical assistance', 'geriatric care', 'lab technician', 'counseling', 'physical therapy', 'elderly care', 'first aid', 'medical research', 'research', 'medical assistance', 'research', 'first aid', 'mental health counseling', 'research', 'diet planning', 'counseling', 'special needs support', 'nursing', 'special needs support', 'research', 'first aid', 'medical research', 'research', 'nursing', 'lab assistance', 'research', 'nutrition', 'medical research', 'lab technician', 'medical coding', 'mental health counseling', 'first aid', 'occupational therapy', 'physical therapy', 'childcare', 'nutrition', 'geriatric care', 'elderly care', 'first aid', 'clinical research', 'research', 'counseling', 'mental health counseling', 'elderly care', 'medical assistance', 'elderly care', 'nursing', 'physical therapy', 'counseling', 'mental health counseling', 'childcare', 'medical assistance', 'lab assistance', 'elderly care', 'counseling', 'geriatric care', 'elderly care', 'nursing', 'clinical research', 'research', 'healthcare', 'geriatric care', 'elderly care', 'medical assistance', 'lab technician', 'counseling', 'mental health counseling', 'first aid', 'counseling', 'mental health counseling', 'elderly care', 'first aid', 'medical research', 'lab technician', 'medical coding', 'first aid', 'nutrition', 'special needs support', 'medical coding', 'lab assistance', 'elderly care', 'healthcare', 'special needs support', 'occupational therapy', 'physical therapy', 'childcare', 'diet planning', 'lab assistance', 'nursing', 'lab assistance', 'first aid', 'first aid', 'medical research', 'lab technician', 'medical coding', 'nursing', 'lab assistance', 'first aid', 'first aid', 'medical research', 'research', 'diet planning', 'childcare', 'counseling', 'mental health counseling', 'childcare', 'medical assistance', 'clinical research', 'first aid', 'first aid', 'first aid', 'medical coding', 'counseling', 'lab assistance', 'research', 'diet planning', 'physical therapy', 'rehabilitation', 'nursing', 'mental health support', 'nutrition', 'nursing', 'lab assistance', 'first aid', 'physical therapy', 'first aid', 'nutrition', 'lab assistance', 'nutrition', 'mental health counseling', 'first aid', 'nursing', 'physical therapy', 'childcare', 'first aid', 'medical research', 'lab technician', 'diet planning', 'clinical research', 'first aid', 'first aid', 'clinical research', 'first aid', 'nursing', 'lab assistance', 'nursing', 'counseling', 'geriatric care', 'first aid', 'first aid', 'medical research', 'research', 'healthcare', 'research', 'diet planning', 'mental health counseling', 'rehabilitation', 'counseling', 'mental health counseling', 'mental health support', 'medical coding', 'mental health support', 'nursing', 'counseling', 'physical therapy', 'research', 'counseling', 'geriatric care', 'rehabilitation', 'occupational therapy', 'medical research', 'lab technician', 'nursing', 'special needs support', 'occupational therapy', 'special needs support', 'lab technician', 'healthcare', 'mental health counseling', 'lab technician', 'nursing', 'lab assistance', 'elderly care', 'diet planning', 'special needs support', 'lab technician', 'diet planning', 'clinical research', 'first aid', 'medical assistance', 'counseling', 'mental health counseling', 'lab technician', 'healthcare', 'lab assistance', 'mental health support', 'diet planning', 'physical therapy', 'childcare', 'occupational therapy', 'research', 'counseling', 'lab assistance', 'elderly care', 'nursing', 'clinical research', 'lab technician', 'medical assistance', 'lab assistance', 'childcare', 'healthcare', 'geriatric care', 'childcare', 'first aid', 'special needs support', 'childcare', 'nutrition', 'special needs support', 'research', 'counseling', 'mental health counseling', 'lab technician', 'counseling', 'lab technician', 'counseling', 'medical research', 'lab technician', 'medical coding', 'lab assistance', 'lab technician', 'counseling', 'mental health counseling', 'mental health support', 'medical coding', 'clinical research', 'lab technician', 'occupational therapy', 'rehabilitation', 'nursing', 'medical research', 'research', 'counseling', 'special needs support', 'childcare', 'diet planning', 'geriatric care', 'mental health support', 'nursing', 'special needs support', 'first aid', 'counseling', 'medical research', 'mental health support', 'first aid', 'physical therapy', 'research', 'occupational therapy', 'physical therapy', 'childcare', 'medical coding', 'medical research', 'rehabilitation', 'first aid', 'medical research', 'research', 'nursing', 'lab assistance', 'lab technician', 'counseling', 'first aid', 'first aid', 'medical research', 'lab technician', 'occupational therapy', 'mental health counseling', 'mental health support', 'first aid', 'physical therapy', 'research', 'counseling', 'mental health counseling', 'lab technician', 'counseling', 'geriatric care', 'mental health support', 'medical assistance', 'first aid', 'special needs support', 'mental health support', 'healthcare', 'geriatric care', 'elderly care', 'first aid', 'medical research', 'research', 'healthcare', 'rehabilitation', 'diet planning', 'lab assistance', 'first aid', 'medical assistance', 'lab assistance', 'elderly care', 'diet planning', 'clinical research', 'first aid', 'medical research', 'mental health support', 'medical coding', 'lab assistance', 'first aid', 'counseling', 'mental health counseling', 'mental health support', 'nursing', 'clinical research', 'lab technician', 'occupational therapy', 'mental health counseling', 'first aid', 'nursing', 'rehabilitation', 'healthcare', 'mental health counseling', 'mental health support', 'nutrition', 'physical therapy', 'healthcare', 'medical research', 'elderly care', 'counseling', 'lab assistance', 'medical coding', 'geriatric care', 'first aid', 'counseling', 'geriatric care', 'mental health support', 'medical assistance', 'medical assistance', 'medical research', 'nursing', 'mental health support', 'counseling', 'physical therapy', 'childcare', 'first aid', 'first aid', 'counseling', 'special needs support', 'mental health support', 'diet planning', 'geriatric care', 'first aid', 'medical coding', 'medical research', 'mental health support', 'first aid', 'medical research', 'research', 'healthcare', 'mental health counseling', 'rehabilitation', 'counseling', 'mental health counseling', 'mental health support', 'diet planning', 'first aid', 'counseling', 'mental health counseling', 'diet planning', 'geriatric care', 'research', 'healthcare', 'lab assistance', 'elderly care', 'nursing', 'special needs support', 'mental health support', 'counseling', 'lab assistance', 'nutrition', 'elderly care', 'healthcare', 'special needs support', 'elderly care', 'occupational therapy', 'special needs support', 'first aid', 'counseling', 'mental health counseling', 'mental health support', 'occupational therapy', 'physical therapy', 'childcare', 'counseling', 'lab assistance', 'lab technician', 'healthcare', 'medical coding', 'mental health counseling', 'research', 'healthcare', 'physical therapy', 'research', 'nutrition', 'first aid', 'lab technician', 'medical assistance', 'special needs support', 'lab technician', 'first aid', 'clinical research', 'elderly care', 'diet planning', 'clinical research', 'research', 'nursing', 'special needs support', 'diet planning', 'medical research', 'research', 'diet planning', 'clinical research', 'first aid', 'nursing', 'lab assistance', 'diet planning', 'medical research', 'mental health support', 'diet planning', 'clinical research', 'research', 'counseling', 'medical research', 'mental health support', 'medical coding', 'physical therapy', 'mental health support', 'counseling', 'medical research', 'elderly care', 'diet planning', 'lab assistance', 'mental health support', 'first aid', 'clinical research', 'first aid', 'occupational therapy', 'lab assistance', 'lab technician', 'first aid', 'first aid', 'first aid', 'geriatric care', 'research', 'counseling', 'mental health counseling', 'mental health support', 'counseling', 'medical research', 'first aid', 'occupational therapy', 'mental health counseling', 'mental health support', 'nutrition', 'lab assistance', 'lab technician', 'medical assistance', 'clinical research', 'rehabilitation', 'counseling', 'geriatric care', 'rehabilitation', 'counseling', 'mental health counseling', 'mental health support', 'counseling', 'medical research', 'first aid', 'clinical research', 'rehabilitation', 'first aid', 'mental health counseling', 'research', 'diet planning', 'clinical research', 'research', 'medical coding', 'clinical research', 'lab technician', 'first aid', 'physical therapy', 'childcare', 'healthcare', 'lab assistance', 'lab technician', 'first aid', 'geriatric care', 'childcare', 'healthcare', 'geriatric care', 'elderly care', 'occupational therapy', 'physical therapy', 'childcare', 'counseling', 'special needs support', 'lab technician', 'medical assistance', 'lab technician', 'nutrition', 'geriatric care', 'counseling', 'mental health counseling', 'mental health support', 'diet planning', 'mental health counseling', 'elderly care', 'occupational therapy', 'medical research', 'research', 'counseling', 'geriatric care', 'elderly care', 'nutrition', 'lab assistance', 'first aid', 'medical assistance', 'lab assistance', 'elderly care', 'counseling', 'special needs support', 'mental health support', 'healthcare', 'geriatric care', 'elderly care', 'counseling', 'mental health counseling', 'elderly care', 'medical assistance', 'first aid', 'nursing', 'mental health counseling', 'rehabilitation', 'medical coding', 'clinical research', 'research', 'diet planning', 'mental health counseling', 'elderly care', 'medical coding', 'first aid', 'nursing', 'medical research', 'research', 'nursing', 'geriatric care', 'childcare', 'counseling', 'lab assistance', 'mental health support', 'medical coding', 'occupational therapy', 'geriatric care', 'elderly care', 'medical assistance', 'geriatric care', 'elderly care', 'medical assistance', 'physical therapy', 'childcare', 'diet planning', 'geriatric care', 'elderly care', 'healthcare', 'geriatric care', 'elderly care', 'first aid', 'clinical research', 'research', 'nutrition', 'healthcare', 'first aid', 'medical research', 'research', 'counseling', 'lab assistance', 'mental health support', 'occupational therapy', 'physical therapy', 'childcare', 'counseling', 'physical therapy', 'mental health support', 'medical coding', 'geriatric care', 'childcare', 'occupational therapy', 'geriatric care', 'lab technician', 'counseling', 'special needs support', 'rehabilitation', 'nutrition', 'medical research', 'elderly care', 'counseling', 'geriatric care', 'childcare', 'nursing', 'lab assistance', 'occupational therapy', 'mental health counseling', 'childcare', 'occupational therapy', 'physical therapy', 'childcare', 'diet planning', 'medical research', 'first aid', 'counseling', 'geriatric care', 'counseling', 'mental health counseling', 'rehabilitation', 'occupational therapy', 'special needs support', 'childcare', 'nutrition', 'lab assistance', 'counseling', 'mental health counseling', 'mental health support', 'counseling', 'mental health counseling', 'mental health support', 'healthcare', 'first aid', 'healthcare', 'geriatric care', 'elderly care', 'counseling', 'mental health counseling', 'research', 'medical assistance', 'lab assistance', 'lab technician', 'medical assistance', 'mental health counseling', 'mental health support', 'nutrition', 'counseling', 'medical research', 'lab technician', 'diet planning', 'lab assistance', 'first aid', 'medical coding', 'mental health counseling', 'lab technician', 'medical assistance', 'clinical research', 'healthcare', 'geriatric care', 'research', 'healthcare', 'special needs support', 'lab technician', 'counseling', 'geriatric care', 'elderly care', 'occupational therapy', 'physical therapy', 'lab technician', 'nutrition', 'lab assistance', 'mental health support', 'medical coding', 'first aid', 'counseling', 'medical research', 'first aid', 'occupational therapy', 'special needs support', 'first aid', 'medical coding', 'mental health counseling', 'mental health support', 'nursing', 'special needs support', 'nutrition', 'lab technician', 'first aid', 'clinical research', 'research', 'nutrition', 'clinical research', 'first aid', 'diet planning', 'nursing', 'counseling', 'medical research', 'research', 'occupational therapy', 'medical research', 'first aid', 'physical therapy', 'elderly care', 'diet planning', 'physical therapy', 'counseling', 'mental health counseling', 'mental health support', 'nutrition', 'childcare', 'counseling', 'mental health counseling', 'first aid', 'occupational therapy', 'special needs support', 'nutrition', 'medical coding', 'medical research', 'rehabilitation', 'first aid', 'mental health counseling', 'rehabilitation', 'medical assistance', 'special needs support', 'elderly care', 'first aid', 'mental health counseling', 'medical assistance', 'physical therapy', 'lab technician', 'environmental education', 'health education', 'career guidance', 'marketing', 'leadership training', 'research', 'digital marketing', 'creative design', 'marketing', 'emergency response', 'communication', 'marketing', 'medical research', 'clinical research', 'graphic design', 'leadership training', 'creative design', 'graphic design', 'special needs support', 'graphic design', 'public relation', 'communication', 'customer service', 'sports coaching', 'case management', 'childcare', 'social media', 'communication', 'visual comunication', 'leadership training', 'research', 'customer service', 'social media', 'administrative tasks', 'graphic design', 'leadership development', 'research', 'digital marketing', 'emergency response', 'case management', 'customer service', 'emergency response', 'administrative tasks', 'digital marketing', 'sports coaching', 'case management', 'social media management', 'emergency response', 'case management', 'graphic design', 'emergency response', 'administrative tasks', 'graphic design', 'leadership development', 'creative design', 'graphic design', 'leadership development', 'case management', 'elderly care', 'emergency response', 'administrative tasks', 'social media management', 'social media', 'clinical research', 'customer service', 'medical research', 'clinical research', 'graphic design', 'sports coaching', 'creative design', 'fundraising', 'public relation', 'community outreach', 'fundraising', 'community outreach', 'customer service', 'social media', 'special needs support', 'visual comunication', 'leadership training', 'research', 'graphic design', 'medical research', 'social media management', 'social media', 'special needs support', 'social media management', 'social media', 'special needs support', 'elderly care', 'creative design', 'social media management', 'social media', 'community outreach', 'social media management', 'emergency response', 'customer service', 'social media', 'community outreach', 'childcare', 'clinical research', 'social media management', 'sports coaching', 'case management', 'childcare', 'creative design', 'digital marketing', 'sports coaching', 'case management', 'marketing', 'leadership development', 'case management', 'social media management', 'social media', 'clinical research', 'visual comunication', 'emergency response', 'research', 'childcare', 'leadership development', 'administrative tasks', 'elderly care', 'public relation', 'special needs support', 'marketing', 'medical research', 'administrative tasks', 'social media management', 'medical research', 'clinical research', 'digital marketing', 'sports coaching', 'case management', 'social media management', 'leadership training', 'special needs support', 'childcare', 'public relation', 'clinical research', 'fundraising', 'public relation', 'communication', 'customer service', 'leadership training', 'research', 'elderly care', 'social media', 'special needs support', 'childcare', 'medical research', 'administrative tasks', 'graphic design', 'leadership training', 'community outreach', 'marketing', 'leadership development', 'community outreach', 'social media management', 'public relation', 'communication', 'customer service', 'medical research', 'clinical research', 'graphic design', 'creative design', 'visual comunication', 'emergency response', 'administrative tasks', 'digital marketing', 'case management', 'digital marketing', 'sports coaching', 'case management', 'social media management', 'leadership development', 'community outreach', 'childcare', 'medical research', 'communication', 'elderly care', 'creative design', 'graphic design', 'medical research', 'research', 'customer service', 'public relation', 'administrative tasks', 'digital marketing', 'social media', 'case management', 'childcare', 'leadership development', 'graphic design', 'public relation', 'community outreach', 'visual comunication', 'medical research', 'childcare', 'public relation', 'marketing', 'emergency response', 'case management', 'visual comunication', 'emergency response', 'communication', 'fundraising', 'special needs support', 'visual comunication', 'leadership training', 'research', 'visual comunication', 'sports coaching', 'clinical research', 'childcare', 'medical research', 'administrative tasks', 'social media management', 'social media', 'special needs support', 'elderly care', 'graphic design', 'community outreach', 'digital marketing', 'public relation', 'special needs support', 'marketing', 'leadership development', 'communication', 'marketing', 'communication', 'elderly care', 'medical research', 'communication', 'marketing', 'social media', 'administrative tasks', 'social media management', 'social media', 'special needs support', 'digital marketing', 'medical research', 'community outreach', 'graphic design', 'elderly care', 'emergency response', 'creative design', 'visual comunication', 'sports coaching', 'clinical research', 'customer service', 'emergency response', 'community outreach', 'social media management', 'special needs support', 'elderly care', 'leadership development', 'research', 'visual comunication', 'leadership training', 'communication', 'digital marketing', 'sports coaching', 'administrative tasks', 'childcare', 'medical research', 'communication', 'social media management', 'leadership development', 'special needs support', 'elderly care', 'public relation', 'clinical research', 'elderly care', 'communication', 'graphic design', 'sports coaching', 'clinical research', 'customer service', 'emergency response', 'clinical research', 'childcare', 'emergency response', 'case management', 'visual comunication', 'administrative tasks', 'customer service', 'emergency response', 'community outreach', 'visual comunication', 'social media', 'special needs support', 'fundraising', 'emergency response', 'creative design', 'marketing', 'leadership training', 'research', 'customer service', 'emergency response', 'social media management', 'creative design', 'elderly care', 'emergency response', 'administrative tasks', 'customer service', 'emergency response', 'administrative tasks', 'marketing', 'public relation', 'community outreach', 'social media management', 'social media', 'administrative tasks', 'marketing', 'leadership development', 'special needs support', 'customer service', 'sports coaching', 'research', 'social media management', 'leadership development', 'special needs support', 'visual comunication', 'medical research', 'creative design', 'fundraising', 'creative design', 'fundraising', 'sports coaching', 'communication', 'social media management', 'emergency response', 'administrative tasks', 'fundraising', 'leadership development', 'visual comunication', 'leadership training', 'administrative tasks', 'childcare', 'public relation', 'creative design', 'childcare', 'social media', 'communication', 'customer service', 'leadership development', 'research', 'social media management', 'social media', 'creative design', 'customer service', 'leadership development', 'clinical research', 'digital marketing', 'leadership training', 'research', 'elderly care', 'creative design', 'social media management', 'social media', 'creative design', 'customer service', 'case management', 'social media management', 'sports coaching', 'special needs support', 'fundraising', 'public relation', 'visual comunication', 'leadership training', 'research', 'graphic design', 'community outreach', 'marketing', 'leadership development', 'creative design', 'visual comunication', 'research', 'visual comunication', 'emergency response', 'community outreach', 'childcare', 'emergency response', 'administrative tasks', 'elderly care', 'social media', 'creative design', 'social media management', 'social media', 'special needs support', 'elderly care', 'sports coaching', 'creative design', 'social media management', 'social media', 'research', 'graphic design', 'public relation', 'childcare', 'leadership development', 'special needs support', 'visual comunication', 'research', 'visual comunication', 'public relation', 'community outreach', 'visual comunication', 'social media', 'creative design', 'customer service', 'social media', 'creative design', 'elderly care', 'public relation', 'administrative tasks', 'visual comunication', 'emergency response', 'communication', 'elderly care', 'communication', 'digital marketing', 'social media management', 'social media', 'communication', 'fundraising', 'clinical research', 'marketing', 'social media', 'case management', 'visual comunication', 'leadership training', 'research', 'graphic design', 'sports coaching', 'clinical research', 'childcare', 'leadership training', 'administrative tasks', 'marketing', 'sports coaching', 'communication', 'customer service', 'leadership development', 'administrative tasks', 'fundraising', 'public relation', 'community outreach', 'elderly care', 'case management', 'marketing', 'social media', 'clinical research', 'marketing', 'special needs support', 'marketing', 'leadership development', 'communication', 'elderly care', 'communication', 'social media management', 'emergency response', 'communication', 'childcare', 'medical research', 'administrative tasks', 'childcare', 'sports coaching', 'social media management', 'creative design', 'fundraising', 'public relation', 'research', 'digital marketing', 'case management', 'marketing', 'leadership development', 'community outreach', 'marketing', 'communication', 'elderly care', 'creative design', 'childcare', 'medical research', 'clinical research', 'customer service', 'communication', 'social media management', 'communication', 'social media management', 'leadership development', 'special needs support', 'customer service', 'customer service', 'emergency response', 'administrative tasks', 'fundraising', 'leadership training', 'administrative tasks', 'customer service', 'emergency response', 'administrative tasks', 'marketing', 'community outreach', 'visual comunication', 'creative design', 'visual comunication', 'research', 'elderly care', 'case management', 'customer service', 'emergency response', 'creative design', 'graphic design', 'sports coaching', 'creative design', 'digital marketing', 'communication', 'graphic design', 'creative design', 'elderly care', 'creative design', 'elderly care', 'research', 'customer service', 'leadership training', 'research', 'visual comunication', 'communication', 'elderly care', 'emergency response', 'clinical research', 'visual comunication', 'communication', 'digital marketing', 'sports coaching', 'elderly care', 'medical research', 'clinical research', 'graphic design', 'communication', 'customer service', 'leadership training', 'administrative tasks', 'childcare', 'leadership development', 'clinical research', 'marketing', 'leadership development', 'communication', 'visual comunication', 'leadership training', 'research', 'elderly care', 'communication', 'graphic design', 'medical research', 'clinical research', 'digital marketing', 'social media', 'community outreach', 'social media management', 'leadership training', 'special needs support', 'elderly care', 'public relation', 'community outreach', 'digital marketing', 'clinical research', 'marketing', 'leadership training', 'research', 'fundraising', 'leadership development', 'community outreach', 'social media management', 'sports coaching', 'research', 'elderly care', 'case management', 'childcare', 'social media', 'case management', 'childcare', 'sports coaching', 'communication', 'elderly care', 'community outreach', 'fundraising', 'leadership development', 'communication', 'social media management', 'social media', 'special needs support', 'social media management', 'social media', 'research', 'customer service', 'medical research', 'administrative tasks', 'social media management', 'leadership training', 'community outreach', 'customer service', 'sports coaching', 'clinical research', 'childcare', 'leadership development', 'communication', 'elderly care', 'leadership development', 'research', 'social media management', 'medical research', 'special needs support', 'visual comunication', 'medical research', 'special needs support', 'customer service', 'emergency response', 'communication', 'elderly care', 'sports coaching', 'case management', 'customer service', 'case management', 'elderly care', 'public relation', 'childcare', 'social media', 'clinical research', 'childcare', 'leadership development', 'clinical research', 'fundraising', 'creative design', 'elderly care', 'medical research', 'clinical research', 'childcare', 'emergency response', 'clinical research', 'marketing', 'emergency response', 'communication', 'visual comunication', 'leadership training', 'research', 'customer service', 'social media', 'administrative tasks', 'visual comunication', 'public relation', 'administrative tasks', 'digital marketing', 'sports coaching', 'case management', 'visual comunication', 'leadership training', 'research', 'social media management', 'social media', 'clinical research', 'marketing', 'leadership development', 'communication', 'digital marketing', 'creative design', 'social media management', 'sports coaching', 'administrative tasks', 'childcare', 'leadership training', 'clinical research', 'marketing', 'leadership development', 'communication', 'visual comunication', 'leadership training', 'research', 'childcare', 'medical research', 'clinical research', 'customer service', 'leadership training', 'research', 'social media management', 'leadership training', 'research', 'graphic design', 'medical research', 'special needs support', 'childcare', 'medical research', 'clinical research', 'social media management', 'special needs support', 'elderly care', 'sports coaching', 'clinical research', 'social media management', 'social media', 'clinical research', 'childcare', 'sports coaching', 'case management', 'customer service', 'social media', 'research', 'elderly care', 'leadership development', 'creative design', 'childcare', 'leadership development', 'creative design', 'social media management', 'clinical research', 'customer service', 'sports coaching', 'community outreach', 'visual comunication', 'case management', 'marketing', 'leadership development', 'creative design', 'customer service', 'emergency response', 'administrative tasks', 'elderly care', 'social media', 'research', 'childcare', 'case management', 'customer service', 'social media', 'administrative tasks', 'graphic design', 'sports coaching', 'community outreach', 'fundraising', 'special needs support', 'digital marketing', 'social media', 'special needs support', 'graphic design', 'public relation', 'research', 'customer service', 'social media', 'special needs support', 'childcare', 'social media', 'special needs support', 'digital marketing', 'medical research', 'administrative tasks', 'elderly care', 'social media', 'special needs support', 'digital marketing', 'case management', 'childcare', 'medical research', 'clinical research', 'childcare', 'creative design', 'social media management', 'social media', 'communication', 'fundraising', 'social media', 'community outreach', 'digital marketing', 'leadership development', 'administrative tasks', 'social media management', 'sports coaching', 'case management', 'childcare', 'medical research', 'communication', 'elderly care', 'social media', 'administrative tasks', 'digital marketing', 'medical research', 'clinical research', 'marketing', 'research', 'social media management', 'medical research', 'communication', 'graphic design', 'childcare', 'visual comunication', 'emergency response', 'research', 'visual comunication', 'administrative tasks', 'digital marketing', 'sports coaching', 'special needs support', 'graphic design', 'medical research', 'research', 'fundraising', 'leadership development', 'community outreach', 'graphic design', 'public relation', 'community outreach', 'fundraising', 'public relation', 'community outreach', 'childcare', 'medical research', 'special needs support', 'digital marketing', 'fundraising', 'sports coaching', 'case management', 'visual comunication', 'leadership training', 'research', 'fundraising', 'administrative tasks', 'marketing', 'communication', 'social media management', 'social media', 'special needs support', 'fundraising', 'emergency response', 'case management', 'childcare', 'sports coaching', 'clinical research', 'marketing', 'social media', 'community outreach', 'graphic design', 'creative design', 'elderly care', 'social media', 'research', 'visual comunication', 'emergency response', 'research', 'childcare', 'clinical research', 'fundraising', 'medical research', 'case management', 'digital marketing', 'emergency response', 'administrative tasks', 'digital marketing', 'creative design', 'visual comunication', 'emergency response', 'community outreach', 'elderly care', 'sports coaching', 'marketing', 'emergency response', 'communication', 'social media management', 'social media', 'special needs support', 'childcare', 'medical research', 'clinical research', 'childcare', 'clinical research', 'customer service', 'emergency response', 'community outreach', 'visual comunication', 'medical research', 'research', 'customer service', 'emergency response', 'community outreach', 'marketing', 'leadership development', 'communication', 'fundraising', 'leadership development', 'visual comunication', 'leadership training', 'research', 'digital marketing', 'sports coaching', 'communication', 'marketing', 'administrative tasks', 'childcare', 'emergency response', 'research', 'customer service', 'leadership development', 'research', 'digital marketing', 'emergency response', 'case management', 'customer service', 'leadership development', 'communication', 'marketing', 'sports coaching', 'communication', 'marketing', 'community outreach', 'childcare', 'creative design', 'elderly care', 'emergency response', 'communication', 'customer service', 'medical research', 'special needs support', 'childcare', 'sports coaching', 'case management', 'social media management', 'sports coaching', 'marketing', 'leadership development', 'visual comunication', 'leadership training', 'research', 'digital marketing', 'sports coaching', 'community outreach', 'social media management', 'social media', 'special needs support', 'elderly care', 'leadership development', 'research', 'fundraising', 'community outreach', 'customer service', 'sports coaching', 'case management', 'visual comunication', 'sports coaching', 'administrative tasks', 'visual comunication', 'leadership training', 'administrative tasks', 'elderly care', 'medical research', 'communication', 'fundraising', 'leadership development', 'community outreach', 'visual comunication', 'leadership training', 'research', 'fundraising', 'medical research', 'administrative tasks', 'marketing', 'communication', 'visual comunication', 'leadership training', 'research', 'visual comunication', 'leadership training', 'communication', 'customer service', 'creative design', 'marketing', 'public relation', 'communication', 'customer service', 'emergency response', 'research', 'customer service', 'social media management', 'social media', 'special needs support', 'graphic design', 'social media', 'administrative tasks', 'social media management', 'leadership training', 'special needs support', 'childcare', 'medical research', 'communication', 'social media management', 'social media', 'clinical research', 'digital marketing', 'public relation', 'community outreach', 'marketing', 'sports coaching', 'research', 'fundraising', 'leadership development', 'administrative tasks', 'fundraising', 'medical research', 'special needs support', 'visual comunication', 'case management', 'customer service', 'emergency response', 'administrative tasks', 'fundraising', 'sports coaching', 'fundraising', 'emergency response', 'creative design', 'marketing', 'leadership development', 'creative design', 'visual comunication', 'leadership training', 'research', 'graphic design', 'medical research', 'research', 'elderly care', 'sports coaching', 'administrative tasks', 'childcare', 'public relation', 'administrative tasks', 'social media management', 'social media', 'special needs support', 'digital marketing', 'sports coaching', 'case management', 'elderly care', 'research', 'marketing', 'medical research', 'clinical research', 'social media management', 'medical research', 'creative design', 'digital marketing', 'sports coaching', 'special needs support', 'visual comunication', 'research', 'childcare', 'social media', 'communication', 'childcare', 'medical research', 'research', 'elderly care', 'sports coaching', 'creative design', 'digital marketing', 'sports coaching', 'case management', 'marketing', 'emergency response', 'creative design', 'graphic design', 'graphic design', 'emergency response', 'case management', 'childcare', 'public relation', 'community outreach', 'graphic design', 'customer service', 'administrative tasks', 'elderly care', 'leadership development', 'communication', 'marketing', 'administrative tasks', 'youth mentoring', 'youth empowerment', 'volunteer coordination', 'marketing', 'public relation', 'public speaking', 'fundraising', 'team management', 'customer service', 'team building', 'volunteer management', 'community outreach', 'social media management', 'event coordination', 'customer service', 'social media management', 'leadership training', 'creative design', 'marketing', 'public relation', 'public speaking', 'marketing', 'volunteer management', 'graphic design', 'content creation', 'volunteer management', 'public speaking', 'content creation', 'leadership training', 'graphic design', 'content creation', 'communication', 'graphic design', 'visual comunication', 'leadership training', 'customer service', 'visual comunication', 'emergency response', 'administrative tasks', 'fundraising', 'leadership training', 'communication', 'content creation', 'customer service', 'leadership development', 'public relation', 'communication', 'digital marketing', 'public relation', 'social work', 'event planning', 'team management', 'administrative tasks', 'team building', 'leadership training', 'community outreach', 'digital marketing', 'team management', 'public speaking', 'event planning', 'emergency response', 'public speaking', 'fundraising', 'emergency response', 'customer service', 'content creation', 'communication', 'customer service', 'team building', 'social media', 'social work', 'team building', 'team management', 'communication', 'content creation', 'public relation', 'public relation', 'social media management', 'leadership training', 'creative design', 'fundraising', 'leadership training', 'communication', 'visual comunication', 'emergency response', 'communication', 'team building', 'emergency response', 'public speaking', 'social media management', 'communication', 'marketing', 'social media', 'creative design', 'digital marketing', 'emergency response', 'public relation', 'event planning', 'public relation', 'public relation', 'team building', 'event coordination', 'social work', 'content creation', 'team management', 'creative design', 'content creation', 'communication', 'public relation', 'leadership development', 'communication', 'marketing', 'public relation', 'social work', 'leadership development', 'public speaking', 'leadership development', 'team management', 'public relation', 'social media management', 'team management', 'community outreach', 'content creation', 'communication', 'public relation', 'team building', 'team management', 'communication', 'fundraising', 'customer service', 'fundraising', 'public relation', 'public relation', 'content creation', 'communication', 'graphic design', 'digital marketing', 'emergency response', 'customer service', 'fundraising', 'volunteer management', 'creative design', 'visual comunication', 'social media', 'social work', 'content creation', 'leadership training', 'administrative tasks', 'content creation', 'communication', 'graphic design', 'event planning', 'event coordination', 'public relation', 'fundraising', 'social media', 'creative design', 'content creation', 'communication', 'public speaking', 'marketing', 'public relation', 'administrative tasks', 'leadership development', 'public relation', 'community outreach', 'social media management', 'social media', 'creative design', 'event planning', 'event coordination', 'public relation', 'digital marketing', 'team management', 'graphic design', 'visual comunication', 'communication', 'graphic design', 'content creation', 'communication', 'graphic design', 'team building', 'leadership training', 'customer service', 'event planning', 'volunteer management', 'graphic design', 'leadership development', 'communication', 'graphic design', 'leadership development', 'social media', 'creative design', 'social media management', 'event coordination', 'creative design', 'visual comunication', 'social media', 'administrative tasks', 'visual comunication', 'emergency response', 'administrative tasks', 'visual comunication', 'emergency response', 'communication', 'leadership development', 'communication', 'leadership development', 'social media', 'creative design', 'content creation', 'public relation', 'public speaking', 'team building', 'team management', 'administrative tasks', 'leadership development', 'leadership training', 'community outreach', 'content creation', 'social media', 'creative design', 'event planning', 'social media', 'public relation', 'team building', 'emergency response', 'community outreach', 'event planning', 'social media', 'creative design', 'team building', 'event coordination', 'graphic design', 'fundraising', 'public relation', 'administrative tasks', 'social media management', 'social media', 'customer service', 'leadership development', 'team management', 'public relation', 'visual comunication', 'communication', 'administrative tasks', 'social media management', 'communication', 'public relation', 'fundraising', 'volunteer management', 'communication', 'team building', 'volunteer management', 'public speaking', 'leadership development', 'emergency response', 'communication', 'digital marketing', 'public relation', 'communication', 'team building', 'team management', 'administrative tasks', 'social media management', 'social media', 'public speaking', 'visual comunication', 'event coordination', 'communication', 'event planning', 'event coordination', 'social work', 'digital marketing', 'volunteer management', 'communication', 'event planning', 'event coordination', 'public relation', 'event planning', 'community outreach', 'fundraising', 'public speaking', 'digital marketing', 'customer service', 'marketing', 'emergency response', 'communication', 'marketing', 'public relation', 'creative design', 'marketing', 'communication', 'social work', 'content creation', 'communication', 'graphic design', 'fundraising', 'volunteer management', 'communication', 'leadership development', 'event coordination', 'public relation', 'visual comunication', 'team management', 'public speaking', 'content creation', 'leadership training', 'community outreach', 'fundraising', 'leadership training', 'graphic design', 'content creation', 'volunteer management', 'public speaking', 'visual comunication', 'emergency response', 'administrative tasks', 'digital marketing', 'leadership training', 'social work', 'team building', 'social media', 'community outreach', 'social media management', 'social media', 'customer service', 'visual comunication', 'volunteer management', 'communication', 'marketing', 'emergency response', 'creative design', 'visual comunication', 'volunteer management', 'customer service', 'visual comunication', 'emergency response', 'customer service', 'digital marketing', 'public relation', 'graphic design', 'visual comunication', 'emergency response', 'social work', 'team building', 'team management', 'public speaking', 'leadership development', 'event coordination', 'communication', 'content creation', 'event coordination', 'graphic design', 'content creation', 'communication', 'graphic design', 'fundraising', 'volunteer management', 'public relation', 'event planning', 'leadership training', 'customer service', 'marketing', 'communication', 'creative design', 'social media management', 'social media', 'creative design', 'digital marketing', 'volunteer management', 'customer service', 'content creation', 'social media', 'administrative tasks', 'fundraising', 'team management', 'creative design', 'fundraising', 'social media', 'creative design', 'leadership development', 'leadership training', 'social work', 'marketing', 'communication', 'creative design', 'marketing', 'communication', 'graphic design', 'fundraising', 'event coordination', 'public relation', 'visual comunication', 'emergency response', 'administrative tasks', 'marketing', 'volunteer management', 'communication', 'leadership development', 'leadership training', 'social work', 'leadership development', 'leadership training', 'communication', 'team building', 'emergency response', 'public relation', 'leadership development', 'volunteer management', 'public speaking', 'marketing', 'public relation', 'administrative tasks', 'event planning', 'communication', 'creative design', 'social media management', 'social media', 'creative design', 'event planning', 'event coordination', 'public relation', 'visual comunication', 'graphic design', 'team building', 'leadership training', 'public relation', 'social media management', 'leadership training', 'administrative tasks', 'visual comunication', 'communication', 'visual comunication', 'social media', 'administrative tasks', 'leadership development', 'volunteer management', 'public speaking', 'fundraising', 'social media', 'creative design', 'digital marketing', 'team management', 'public relation', 'fundraising', 'leadership training', 'communication', 'content creation', 'communication', 'graphic design', 'team building', 'leadership training', 'graphic design', 'leadership development', 'volunteer management', 'communication', 'leadership development', 'communication', 'team building', 'emergency response', 'customer service', 'content creation', 'communication', 'graphic design', 'event planning', 'event coordination', 'public relation', 'leadership development', 'leadership training', 'communication', 'visual comunication', 'public relation', 'public speaking', 'marketing', 'community outreach', 'social media management', 'social media', 'public speaking', 'marketing', 'public relation', 'public speaking', 'fundraising', 'volunteer management', 'administrative tasks', 'team building', 'public relation', 'public speaking', 'event planning', 'social media', 'administrative tasks', 'fundraising', 'leadership training', 'communication', 'visual comunication', 'event coordination', 'public speaking', 'event planning', 'event coordination', 'administrative tasks', 'social media management', 'emergency response', 'public speaking', 'leadership development', 'event coordination', 'customer service', 'content creation', 'public relation', 'creative design', 'visual comunication', 'emergency response', 'community outreach', 'team building', 'emergency response', 'graphic design', 'digital marketing', 'communication', 'communication', 'marketing', 'public relation', 'public relation', 'event planning', 'public relation', 'public speaking', 'content creation', 'communication', 'administrative tasks', 'team building', 'public relation', 'administrative tasks', 'event planning', 'administrative tasks', 'team building', 'leadership training', 'social work', 'fundraising', 'leadership training', 'customer service', 'visual comunication', 'emergency response', 'administrative tasks', 'social media management', 'team management', 'communication', 'digital marketing', 'public relation', 'marketing', 'leadership training', 'public speaking', 'social media management', 'leadership training', 'administrative tasks', 'content creation', 'communication', 'administrative tasks', 'team building', 'team management', 'community outreach', 'team building', 'public relation', 'public speaking', 'fundraising', 'public relation', 'public relation', 'content creation', 'communication', 'graphic design', 'leadership development', 'team management', 'communication', 'digital marketing', 'event coordination', 'community outreach', 'marketing', 'communication', 'customer service', 'team building', 'social media', 'administrative tasks', 'marketing', 'emergency response', 'creative design', 'social media management', 'social media', 'public speaking', 'fundraising', 'communication', 'social work', 'content creation', 'emergency response', 'social work', 'content creation', 'communication', 'communication', 'fundraising', 'public relation', 'public speaking', 'digital marketing', 'volunteer management', 'customer service', 'marketing', 'communication', 'public speaking', 'content creation', 'communication', 'communication', 'marketing', 'event coordination', 'community outreach', 'fundraising', 'emergency response', 'community outreach', 'event planning', 'event coordination', 'public relation', 'marketing', 'emergency response', 'administrative tasks', 'team building', 'communication', 'administrative tasks', 'fundraising', 'public relation', 'communication', 'event planning', 'team management', 'public relation', 'event planning', 'public relation', 'public speaking', 'digital marketing', 'event coordination', 'social work', 'content creation', 'emergency response', 'community outreach', 'event planning', 'event coordination', 'public relation', 'event planning', 'social media', 'public relation', 'event planning', 'event coordination', 'public relation', 'fundraising', 'event coordination', 'graphic design', 'digital marketing', 'social media', 'creative design', 'event planning', 'event coordination', 'public relation', 'fundraising', 'public relation', 'public relation', 'content creation', 'emergency response', 'social work', 'event planning', 'event coordination', 'communication', 'marketing', 'social media', 'creative design', 'leadership development', 'emergency response', 'communication', 'fundraising', 'social media', 'public speaking', 'content creation', 'event coordination', 'administrative tasks', 'event planning', 'emergency response', 'public relation', 'fundraising', 'social media', 'creative design', 'marketing', 'community outreach', 'digital marketing', 'social work', 'visual comunication', 'emergency response', 'customer service', 'marketing', 'emergency response', 'administrative tasks', 'fundraising', 'team management', 'social work', 'leadership development', 'leadership training', 'public relation', 'event planning', 'volunteer management', 'administrative tasks', 'social media management', 'public relation', 'creative design', 'fundraising', 'creative design', 'content creation', 'social media', 'customer service', 'team building', 'communication', 'customer service', 'social media management', 'communication', 'community outreach', 'event planning', 'event coordination', 'public relation', 'content creation', 'team management', 'community outreach', 'digital marketing', 'customer service', 'digital marketing', 'customer service', 'social media management', 'social media', 'creative design', 'visual comunication', 'emergency response', 'public relation', 'social media management', 'social media', 'creative design', 'leadership development', 'leadership training', 'community outreach', 'event planning', 'event coordination', 'public relation', 'social media management', 'social media', 'administrative tasks', 'content creation', 'communication', 'graphic design', 'content creation', 'communication', 'community outreach', 'digital marketing', 'leadership training', 'communication', 'visual comunication', 'public relation', 'creative design', 'marketing', 'public relation', 'public speaking', 'fundraising', 'volunteer management', 'customer service', 'visual comunication', 'emergency response', 'administrative tasks', 'visual comunication', 'team management', 'social work', 'team building', 'public relation', 'social work', 'leadership development', 'leadership training', 'communication', 'event planning', 'event coordination', 'public relation', 'team building', 'team management', 'administrative tasks', 'marketing', 'volunteer management', 'graphic design', 'content creation', 'customer service', 'digital marketing', 'public relation', 'community outreach', 'leadership development', 'public relation', 'graphic design', 'fundraising', 'leadership training', 'administrative tasks', 'marketing', 'emergency response', 'creative design', 'event planning', 'event coordination', 'public relation', 'event planning', 'public relation', 'administrative tasks', 'marketing', 'team management', 'creative design', 'digital marketing', 'emergency response', 'communication', 'digital marketing', 'team management', 'creative design', 'digital marketing', 'emergency response', 'public speaking', 'visual comunication', 'public relation', 'customer service', 'digital marketing', 'administrative tasks', 'social media management', 'leadership training', 'social work', 'digital marketing', 'emergency response', 'administrative tasks', 'team building', 'emergency response', 'customer service', 'fundraising', 'volunteer management', 'public speaking', 'event planning', 'team management', 'administrative tasks', 'content creation', 'communication', 'graphic design', 'social media management', 'social media', 'customer service', 'content creation', 'communication', 'customer service', 'visual comunication', 'emergency response', 'administrative tasks', 'content creation', 'social media', 'graphic design', 'social media management', 'leadership training', 'social work', 'leadership development', 'leadership training', 'public speaking', 'social media management', 'social media', 'creative design', 'marketing', 'public relation', 'public speaking', 'team building', 'event coordination', 'public speaking', 'event planning', 'public relation', 'public speaking', 'social media management', 'social media', 'creative design', 'leadership development', 'event coordination', 'social work', 'visual comunication', 'event coordination', 'public relation', 'event planning', 'communication', 'team building', 'public relation', 'public speaking', 'digital marketing', 'volunteer management', 'social work', 'content creation', 'social media', 'public relation', 'digital marketing', 'public relation', 'social work', 'event planning', 'leadership training', 'customer service', 'marketing', 'emergency response', 'customer service', 'leadership development', 'leadership training', 'communication', 'leadership development', 'emergency response', 'administrative tasks', 'leadership development', 'leadership training', 'customer service', 'visual comunication', 'leadership training', 'graphic design', 'event planning', 'emergency response', 'public relation', 'leadership development', 'emergency response', 'customer service', 'digital marketing', 'social media', 'social work', 'marketing', 'public relation', 'public speaking', 'event planning', 'emergency response', 'creative design', 'visual comunication', 'event coordination', 'graphic design', 'digital marketing', 'event coordination', 'social work', 'digital marketing', 'emergency response', 'graphic design', 'leadership development', 'volunteer management', 'communication', 'marketing', 'team management', 'graphic design', 'leadership development', 'event coordination', 'public speaking', 'visual comunication', 'event coordination', 'administrative tasks', 'fundraising', 'leadership training', 'social work', 'content creation', 'team management', 'public speaking', 'leadership development', 'team management', 'administrative tasks', 'fundraising', 'customer service', 'team building', 'public relation', 'social work', 'marketing', 'leadership training', 'public speaking', 'event planning', 'team management', 'administrative tasks', 'content creation', 'social media', 'creative design', 'marketing', 'communication', 'graphic design', 'event planning', 'communication', 'communication', 'marketing', 'community outreach', 'digital marketing', 'public relation', 'communication', 'visual comunication', 'leadership training', 'administrative tasks', 'marketing', 'communication', 'public speaking', 'team building', 'team management', 'community outreach', 'event planning', 'event coordination', 'customer service', 'content creation', 'volunteer management', 'graphic design', 'fundraising', 'emergency response', 'public relation', 'digital marketing', 'leadership training', 'communication', 'visual comunication', 'graphic design', 'digital marketing', 'administrative tasks', 'team building', 'public relation', 'social work', 'digital marketing', 'emergency response', 'communication', 'visual comunication', 'emergency response', 'creative design', 'leadership development', 'emergency response', 'public relation', 'leadership development', 'social media', 'graphic design', 'content creation', 'public relation', 'public speaking', 'event planning', 'event coordination', 'public relation', 'fundraising', 'leadership training', 'customer service', 'fundraising', 'volunteer management', 'social work', 'content creation', 'communication', 'graphic design', 'digital marketing', 'team management', 'graphic design', 'event planning', 'social media', 'public speaking', 'digital marketing', 'customer service', 'content creation', 'volunteer management', 'graphic design', 'digital marketing', 'social work', 'content creation', 'team management', 'graphic design', 'event planning', 'event coordination', 'public relation', 'content creation', 'event coordination', 'public relation', 'visual comunication', 'emergency response', 'administrative tasks', 'event planning', 'event coordination', 'administrative tasks', 'event planning', 'social media', 'social work', 'social media management', 'event coordination', 'communication', 'marketing', 'team management', 'public speaking', 'social media management', 'communication', 'public speaking', 'marketing', 'leadership training', 'creative design', 'social media management', 'public relation', 'customer service', 'visual comunication', 'volunteer management', 'communication', 'team building', 'team management', 'social work', 'event planning', 'public relation', 'administrative tasks', 'fundraising', 'leadership training', 'creative design', 'visual comunication', 'emergency response', 'administrative tasks', 'event planning', 'public relation', 'public relation', 'marketing', 'social work', 'event planning', 'event coordination', 'public relation', 'content creation', 'leadership training', 'community outreach', 'content creation', 'emergency response', 'community outreach', 'team building', 'public relation', 'social work', 'social media management', 'social media', 'social work', 'team building', 'emergency response', 'community outreach', 'event planning', 'event coordination', 'public relation', 'fundraising', 'volunteer management', 'social work', 'visual comunication', 'emergency response', 'public speaking', 'social media management', 'social media', 'creative design', 'social media management', 'social media', 'creative design', 'team building', 'team management', 'creative design', 'leadership development', 'leadership training', 'communication', 'team building', 'team management', 'social work', 'social media management', 'social media', 'social work', 'digital marketing', 'social work', 'event planning', 'public relation', 'community outreach', 'visual comunication', 'communication', 'graphic design', 'content creation', 'communication', 'public relation', 'marketing', 'community outreach', 'marketing', 'team management', 'community outreach', 'leadership development', 'team management', 'graphic design', 'veterinary assistance', 'veterinary medicine', 'animal surgery', 'pet adoption support', 'animal shelter volunteering', 'animal care', 'animal rescue', 'dog walking', 'animal behavior modification', 'veterinary assistance', 'veterinary assistance', 'animal surgery', 'animal care', 'veterinary assistance', 'animal shelter volunteering', 'animal rescue', 'animal behavior modification', 'animal care', 'pet adoption', 'veterinary assistance', 'pet grooming', 'animal behavior modification', 'animal care', 'animal rescue', 'dog walking', 'animal behavior modification', 'animal rescue', 'animal behavior modification', 'animal shelter volunteering', 'animal shelter volunteering', 'animal behavior modification', 'animal behavior modification', 'animal shelter volunteering', 'pet adoption support', 'veterinary assistance', 'animal behavior', 'animal shelter volunteering', 'animal care', 'veterinary medicine', 'veterinary medicine', 'animal behavior modification', 'animal surgery', 'animal behavior', 'veterinary assistance', 'animal shelter volunteering', 'animal care', 'dog training', 'animal behavior', 'pet adoption', 'pet adoption support', 'dog walking', 'animal surgery', 'pet adoption support', 'veterinary assistance', 'dog walking', 'dog training', 'animal care', 'dog walking', 'animal behavior modification', 'animal rescue', 'pet adoption support', 'veterinary medicine', 'pet grooming', 'dog walking', 'pet adoption support', 'animal shelter volunteering', 'animal behavior modification', 'pet adoption', 'animal behavior modification', 'animal behavior modification', 'animal surgery', 'dog walking', 'dog training', 'pet grooming', 'veterinary medicine', 'dog training', 'animal surgery', 'animal care', 'animal behavior modification', 'animal surgery', 'pet adoption', 'dog walking', 'animal surgery', 'animal behavior', 'animal behavior modification', 'animal behavior modification', 'pet adoption support', 'pet grooming', 'animal behavior', 'veterinary assistance', 'animal shelter volunteering', 'animal care', 'dog training', 'pet grooming', 'dog walking', 'dog training', 'animal rescue', 'animal shelter volunteering', 'animal care', 'animal behavior', 'veterinary assistance', 'animal shelter volunteering', 'animal behavior modification', 'veterinary medicine', 'animal behavior modification', 'animal behavior modification', 'pet grooming', 'dog walking', 'veterinary assistance', 'animal rescue', 'pet adoption', 'animal behavior', 'pet adoption support', 'pet adoption support', 'dog walking', 'dog walking', 'animal behavior modification', 'animal rescue', 'animal behavior', 'animal behavior modification', 'pet grooming', 'animal behavior', 'veterinary medicine', 'animal behavior', 'pet adoption support', 'animal behavior modification', 'animal surgery', 'animal behavior', 'animal behavior modification', 'animal surgery', 'animal behavior', 'animal shelter volunteering', 'animal care', 'animal rescue', 'veterinary medicine', 'pet adoption', 'animal care', 'pet adoption support', 'animal surgery', 'animal behavior modification', 'animal rescue', 'dog walking', 'animal behavior', 'veterinary medicine', 'animal shelter volunteering', 'pet adoption support', 'animal surgery', 'veterinary medicine', 'pet grooming', 'animal care', 'pet adoption', 'pet adoption support', 'dog walking', 'animal shelter volunteering', 'animal care', 'dog training', 'animal rescue', 'dog walking', 'dog training', 'pet grooming', 'dog walking', 'dog walking', 'animal shelter volunteering', 'animal care', 'animal rescue', 'animal shelter volunteering', 'animal care', 'animal rescue', 'dog walking', 'dog walking', 'pet adoption support', 'dog walking', 'animal shelter volunteering', 'animal behavior modification', 'dog walking', 'pet grooming', 'dog walking', 'animal behavior modification', 'pet adoption support', 'animal behavior modification', 'animal behavior', 'pet adoption', 'animal behavior', 'veterinary assistance', 'pet adoption', 'animal shelter volunteering', 'animal care', 'animal behavior modification', 'animal surgery', 'veterinary medicine', 'pet adoption support', 'animal behavior modification', 'pet grooming', 'pet adoption support', 'pet adoption support', 'animal care', 'animal rescue', 'pet adoption', 'animal shelter volunteering', 'pet adoption support', 'veterinary medicine', 'animal behavior', 'animal shelter volunteering', 'animal care', 'animal rescue', 'veterinary assistance', 'animal care', 'pet adoption support', 'dog walking', 'veterinary medicine', 'veterinary medicine', 'animal shelter volunteering', 'animal rescue', 'animal behavior modification', 'dog training', 'animal surgery', 'pet adoption support', 'animal shelter volunteering', 'dog walking', 'dog training', 'animal behavior modification', 'dog training', 'animal surgery', 'pet adoption', 'animal behavior', 'veterinary medicine', 'pet grooming', 'dog walking', 'pet adoption support', 'pet adoption support', 'animal shelter volunteering', 'animal care', 'animal care', 'veterinary assistance', 'animal shelter volunteering', 'animal care', 'pet adoption support', 'pet adoption support', 'veterinary assistance', 'animal surgery', 'animal behavior', 'veterinary assistance', 'animal shelter volunteering', 'animal care', 'animal behavior modification', 'animal surgery', 'pet adoption support', 'veterinary assistance', 'animal surgery', 'animal care', 'dog walking', 'pet adoption support', 'veterinary assistance', 'animal care', 'animal behavior', 'pet adoption', 'animal behavior modification', 'animal surgery', 'animal behavior', 'pet adoption', 'pet grooming', 'dog walking', 'veterinary medicine', 'veterinary assistance', 'animal shelter volunteering', 'animal care', 'pet adoption', 'animal rescue', 'animal rescue', 'dog training', 'pet grooming', 'dog walking', 'veterinary assistance', 'animal shelter volunteering', 'animal rescue', 'veterinary medicine', 'pet grooming', 'animal behavior modification', 'animal shelter volunteering', 'animal rescue', 'dog walking', 'animal behavior', 'pet adoption', 'veterinary assistance', 'animal shelter volunteering', 'animal care', 'pet adoption', 'pet adoption support', 'animal behavior modification', 'animal surgery', 'animal behavior modification', 'animal behavior modification', 'animal care', 'animal behavior', 'animal shelter volunteering', 'pet grooming', 'dog walking', 'pet adoption support', 'animal care', 'animal rescue', 'animal behavior modification', 'animal surgery', 'pet adoption support', 'animal shelter volunteering', 'animal care', 'animal rescue', 'veterinary medicine', 'animal shelter volunteering', 'animal care', 'pet adoption support', 'animal behavior modification', 'veterinary medicine', 'animal surgery', 'animal behavior', 'dog training', 'pet grooming', 'dog walking', 'dog training', 'pet grooming', 'animal behavior', 'veterinary assistance', 'animal surgery', 'animal behavior', 'pet adoption support', 'dog walking', 'animal shelter volunteering', 'dog walking', 'veterinary assistance', 'animal rescue', 'dog training', 'pet adoption', 'animal shelter volunteering', 'animal behavior modification', 'animal surgery', 'animal behavior', 'animal behavior modification', 'pet grooming', 'dog walking', 'animal shelter volunteering', 'dog walking', 'animal behavior modification', 'veterinary assistance', 'animal care', 'dog walking', 'pet adoption', 'dog walking', 'veterinary medicine', 'veterinary medicine', 'veterinary assistance', 'animal rescue', 'dog walking', 'pet adoption', 'dog walking', 'animal rescue', 'dog walking', 'animal shelter volunteering', 'animal behavior modification', 'pet grooming', 'animal behavior', 'animal behavior modification', 'animal surgery', 'animal behavior modification', 'dog walking', 'dog training', 'animal behavior', 'dog training', 'animal shelter volunteering', 'dog walking', 'veterinary medicine', 'pet adoption support', 'dog training', 'dog walking', 'animal behavior modification', 'animal surgery', 'animal behavior', 'veterinary medicine', 'animal rescue', 'dog walking', 'animal rescue', 'dog walking', 'pet adoption', 'animal surgery', 'animal care', 'dog training', 'animal care', 'dog walking', 'veterinary medicine', 'pet adoption support', 'animal surgery', 'dog walking', 'dog walking', 'pet adoption', 'animal behavior', 'veterinary medicine', 'pet adoption support', 'dog training', 'pet grooming', 'dog walking', 'dog walking', 'dog training', 'animal shelter volunteering', 'veterinary assistance', 'pet grooming', 'veterinary assistance', 'animal surgery', 'dog training', 'pet grooming', 'dog walking', 'dog walking', 'pet adoption support', 'dog training', 'animal rescue', 'dog walking', 'veterinary assistance', 'animal shelter volunteering', 'animal behavior modification', 'pet adoption', 'animal shelter volunteering', 'animal care', 'pet adoption support', 'animal surgery', 'animal behavior', 'veterinary medicine', 'animal shelter volunteering', 'animal care', 'dog walking', 'pet grooming', 'animal rescue', 'dog training', 'animal rescue', 'animal behavior modification', 'animal shelter volunteering', 'animal care', 'animal rescue', 'veterinary assistance', 'animal surgery', 'dog walking', 'pet adoption', 'animal shelter volunteering', 'animal rescue', 'veterinary assistance', 'animal shelter volunteering', 'pet adoption support', 'dog training', 'pet grooming', 'dog walking', 'veterinary medicine', 'animal rescue', 'dog walking', 'animal behavior modification', 'animal rescue', 'animal behavior modification', 'animal rescue', 'animal care', 'animal shelter volunteering', 'animal care', 'animal rescue', 'veterinary medicine', 'animal behavior modification', 'animal surgery', 'animal behavior', 'veterinary assistance', 'animal behavior modification', 'veterinary assistance', 'animal behavior modification', 'animal behavior modification', 'animal shelter volunteering', 'animal behavior modification', 'animal behavior modification', 'animal care', 'animal rescue', 'dog walking', 'veterinary medicine', 'dog walking', 'pet adoption', 'animal behavior modification', 'pet grooming', 'animal behavior', 'dog training', 'animal shelter volunteering', 'animal care', 'veterinary medicine', 'animal care', 'animal rescue', 'pet adoption support', 'animal care', 'animal rescue', 'pet adoption', 'animal shelter volunteering', 'animal care', 'animal shelter volunteering', 'animal behavior modification', 'animal shelter volunteering', 'animal care', 'animal rescue', 'pet adoption support', 'animal behavior modification', 'dog training', 'pet grooming', 'dog walking', 'pet adoption', 'animal rescue', 'animal shelter volunteering', 'animal care', 'animal rescue', 'animal behavior modification', 'animal rescue', 'veterinary medicine', 'animal behavior modification', 'animal rescue', 'animal behavior', 'dog walking', 'pet adoption', 'animal behavior', 'veterinary medicine', 'dog training', 'animal behavior modification', 'pet adoption', 'animal behavior', 'veterinary medicine', 'animal rescue', 'dog walking', 'animal behavior modification', 'animal rescue', 'animal care', 'animal shelter volunteering', 'animal care', 'animal behavior', 'veterinary medicine', 'veterinary medicine', 'pet adoption', 'animal behavior modification', 'dog walking', 'animal care', 'animal behavior modification', 'animal rescue', 'pet adoption support', 'veterinary assistance', 'animal care', 'animal care', 'dog walking', 'animal behavior', 'pet adoption', 'dog training', 'animal rescue', 'dog walking', 'pet adoption', 'pet adoption support', 'pet adoption support', 'pet adoption support', 'dog walking', 'animal care', 'animal behavior', 'veterinary assistance', 'pet grooming', 'dog walking', 'veterinary assistance', 'animal surgery', 'animal behavior', 'animal shelter volunteering', 'animal surgery', 'animal rescue', 'veterinary assistance', 'animal shelter volunteering', 'animal care', 'pet adoption', 'pet adoption support', 'animal shelter volunteering', 'pet adoption support', 'pet adoption support', 'animal care', 'animal rescue', 'dog walking', 'animal shelter volunteering', 'veterinary medicine', 'animal surgery', 'veterinary assistance', 'animal shelter volunteering', 'animal care', 'pet adoption', 'animal shelter volunteering', 'animal behavior modification', 'animal behavior modification', 'animal rescue', 'dog walking', 'dog walking', 'pet adoption support', 'pet adoption support', 'pet adoption', 'animal rescue', 'dog training', 'pet grooming', 'animal care', 'pet adoption', 'animal surgery', 'animal care', 'veterinary medicine', 'animal shelter volunteering', 'dog walking', 'pet grooming', 'dog walking', 'veterinary medicine', 'animal shelter volunteering', 'animal behavior', 'dog training', 'pet grooming', 'dog walking', 'veterinary medicine', 'animal behavior modification', 'pet adoption support', 'pet grooming', 'veterinary medicine', 'pet adoption support', 'veterinary assistance', 'animal surgery', 'animal care', 'dog training', 'veterinary medicine', 'animal surgery', 'animal shelter volunteering', 'animal care', 'animal rescue', 'dog training', 'animal shelter volunteering', 'dog walking', 'veterinary assistance', 'animal care', 'dog walking', 'animal care', 'animal rescue', 'veterinary assistance', 'animal shelter volunteering', 'dog walking', 'dog training', 'animal shelter volunteering', 'pet adoption support', 'dog training', 'pet adoption', 'animal care', 'animal rescue', 'veterinary assistance', 'animal rescue', 'dog walking', 'animal shelter volunteering', 'animal shelter volunteering', 'animal behavior modification', 'veterinary medicine', 'animal shelter volunteering', 'animal care', 'animal rescue', 'pet adoption', 'pet adoption support', 'animal shelter volunteering', 'animal care', 'animal rescue', 'animal shelter volunteering', 'animal care', 'animal rescue', 'pet adoption', 'animal shelter volunteering', 'pet adoption support', 'veterinary assistance', 'animal care', 'animal rescue', 'animal shelter volunteering', 'pet adoption', 'animal surgery', 'pet adoption support', 'pet adoption support', 'animal behavior modification', 'pet adoption support', 'animal shelter volunteering', 'animal behavior modification', 'animal behavior modification', 'animal shelter volunteering', 'animal care', 'animal rescue', 'pet adoption support', 'pet adoption support', 'animal behavior modification', 'animal shelter volunteering', 'pet grooming', 'dog walking', 'dog training', 'animal rescue', 'dog walking', 'veterinary assistance', 'animal shelter volunteering', 'animal behavior', 'dog walking', 'animal behavior', 'dog training', 'animal behavior modification', 'animal behavior modification', 'animal surgery', 'animal behavior', 'dog walking', 'animal surgery', 'pet adoption support', 'animal shelter volunteering', 'animal care', 'dog walking', 'animal shelter volunteering', 'animal care', 'animal rescue', 'dog walking', 'dog walking', 'animal shelter volunteering', 'animal care', 'animal rescue', 'dog training', 'pet grooming', 'dog walking', 'animal shelter volunteering', 'animal care', 'animal rescue', 'veterinary assistance', 'animal shelter volunteering', 'animal care', 'dog training', 'animal behavior', 'dog training', 'pet grooming', 'dog walking', 'pet adoption', 'veterinary assistance', 'animal shelter volunteering', 'animal care', 'dog training', 'animal care', 'dog walking', 'dog walking', 'dog training', 'animal rescue', 'animal behavior', 'dog walking', 'pet adoption support', 'veterinary assistance', 'animal rescue', 'animal behavior modification', 'veterinary medicine', 'animal behavior modification', 'dog walking', 'pet adoption', 'animal behavior', 'animal behavior modification', 'animal surgery', 'animal behavior', 'animal behavior modification', 'animal rescue', 'pet adoption', 'animal care', 'animal rescue', 'dog training', 'animal surgery', 'dog walking', 'veterinary assistance', 'animal shelter volunteering', 'animal care', 'pet adoption', 'animal behavior modification', 'animal behavior modification', 'animal rescue', 'animal behavior', 'animal shelter volunteering', 'pet adoption support', 'dog walking', 'dog walking', 'animal shelter volunteering', 'animal care', 'animal behavior modification', 'animal shelter volunteering', 'animal care', 'animal rescue', 'dog walking', 'animal shelter volunteering', 'pet adoption support', 'animal surgery', 'pet adoption support', 'pet adoption', 'animal shelter volunteering', 'animal care', 'animal rescue', 'dog training', 'animal rescue', 'animal behavior', 'pet adoption', 'animal shelter volunteering', 'animal care', 'dog walking', 'veterinary assistance', 'animal shelter volunteering', 'animal behavior', 'dog walking', 'animal behavior', 'animal behavior modification', 'veterinary assistance', 'animal surgery', 'dog walking', 'dog walking', 'animal surgery', 'animal behavior', 'pet adoption', 'pet adoption', 'dog walking', 'veterinary assistance', 'dog training', 'pet grooming', 'dog walking', 'dog training', 'dog walking', 'animal shelter volunteering', 'animal behavior modification', 'animal behavior modification', 'animal behavior modification', 'pet grooming', 'animal behavior', 'animal shelter volunteering', 'animal care', 'animal behavior', 'dog walking', 'pet adoption support', 'animal shelter volunteering', 'dog walking', 'pet adoption support', 'dog training', 'pet grooming', 'dog walking', 'veterinary assistance', 'animal shelter volunteering', 'animal care', 'veterinary assistance', 'animal rescue', 'pet adoption support', 'veterinary assistance', 'animal shelter volunteering', 'animal care', 'veterinary medicine', 'animal rescue', 'animal behavior modification', 'veterinary medicine', 'animal surgery', 'animal behavior', 'veterinary medicine', 'pet adoption support', 'pet adoption support', 'pet adoption', 'pet adoption', 'pet adoption', 'veterinary assistance', 'animal shelter volunteering', 'animal behavior', 'animal shelter volunteering', 'animal care', 'animal behavior modification', 'pet adoption', 'animal care', 'veterinary assistance', 'animal shelter volunteering', 'animal care', 'veterinary assistance', 'animal care', 'animal rescue', 'animal shelter volunteering', 'animal shelter volunteering', 'animal rescue', 'dog training', 'animal rescue', 'animal care', 'animal behavior modification', 'dog walking', 'animal behavior modification', 'pet grooming', 'dog walking', 'dog training', 'pet grooming', 'animal behavior modification', 'pet adoption', 'animal surgery', 'animal shelter volunteering', 'animal care', 'animal rescue', 'animal shelter volunteering', 'animal care', 'animal rescue', 'veterinary assistance', 'animal surgery', 'animal care', 'dog training', 'pet grooming', 'dog walking', 'dog training', 'pet adoption support', 'dog walking', 'pet adoption support', 'veterinary medicine', 'animal behavior modification', 'dog walking', 'veterinary assistance', 'animal shelter volunteering', 'animal behavior modification', 'dog walking', 'animal shelter volunteering', 'animal rescue', 'animal shelter volunteering', 'pet grooming', 'animal behavior', 'animal shelter volunteering', 'pet grooming', 'animal behavior', 'veterinary assistance', 'animal surgery', 'animal care']\n"
          ]
        }
      ]
    },
    {
      "cell_type": "code",
      "source": [
        "Qualifications_related = [q for q in Qualifications if q in event_index.keys()]\n",
        "print(f\"There are {len(set(Qualifications_related))} unique skills to other event.\")"
      ],
      "metadata": {
        "colab": {
          "base_uri": "https://localhost:8080/"
        },
        "id": "TWQS_rRQgQqY",
        "outputId": "3885486e-fa08-4bc7-de26-dcb99ea1236f"
      },
      "execution_count": null,
      "outputs": [
        {
          "output_type": "stream",
          "name": "stdout",
          "text": [
            "There are 0 unique skills to other event.\n"
          ]
        }
      ]
    },
    {
      "cell_type": "code",
      "source": [
        "Qualifications_related"
      ],
      "metadata": {
        "colab": {
          "base_uri": "https://localhost:8080/"
        },
        "id": "0XMopSZxkxXP",
        "outputId": "2f1df79b-a590-4472-941e-7f9e99ba568b"
      },
      "execution_count": null,
      "outputs": [
        {
          "output_type": "stream",
          "name": "stdout",
          "text": [
            "[]\n"
          ]
        }
      ]
    },
    {
      "cell_type": "code",
      "source": [
        "from collections import Counter, OrderedDict\n",
        "\n",
        "def count_items(l):\n",
        "    \"\"\"Return ordered dictionary of counts of objects in `l`\"\"\"\n",
        "\n",
        "    # Create a counter object\n",
        "    counts = Counter(l)\n",
        "\n",
        "    # Sort by highest count first and place in ordered dictionary\n",
        "    counts = sorted(counts.items(), key = lambda x: x[1], reverse = True)\n",
        "    counts = OrderedDict(counts)\n",
        "\n",
        "    return counts"
      ],
      "metadata": {
        "id": "98mApa_UoyNV"
      },
      "execution_count": null,
      "outputs": []
    },
    {
      "cell_type": "code",
      "source": [
        "unique_Q = list(chain(*[list(set(event[\"Qualifications\"])) for event in events]))\n",
        "print(f\"There are {len(set(unique_Q))} unique skills.\")\n",
        "\n",
        "Q_counts = count_items(unique_Q)\n",
        "list(Q_counts.items())[:10]"
      ],
      "metadata": {
        "colab": {
          "base_uri": "https://localhost:8080/"
        },
        "id": "hZbE_-FvMgv-",
        "outputId": "26164533-5255-4871-9893-343fd1b847c5"
      },
      "execution_count": null,
      "outputs": [
        {
          "output_type": "stream",
          "name": "stdout",
          "text": [
            "There are 117 unique skills.\n"
          ]
        },
        {
          "output_type": "execute_result",
          "data": {
            "text/plain": [
              "[('public relation', 180),\n",
              " ('communication', 172),\n",
              " ('graphic design', 162),\n",
              " ('administrative tasks', 142),\n",
              " ('emergency response', 140),\n",
              " ('wildlife rehabilitation', 139),\n",
              " ('computer literacy', 137),\n",
              " ('customer service', 127),\n",
              " ('visual comunication', 127),\n",
              " ('creative design', 126)]"
            ]
          },
          "metadata": {},
          "execution_count": 19
        }
      ]
    },
    {
      "cell_type": "code",
      "source": [
        "Qualifications = [skills.lower() for skills in unique_Q]\n",
        "print(f\"There are {len(set(Qualifications))} unique skills.\")\n",
        "\n",
        "Q_counts = count_items(Qualifications)\n",
        "list(Q_counts.items())[:10]"
      ],
      "metadata": {
        "colab": {
          "base_uri": "https://localhost:8080/"
        },
        "id": "kR7IjTJcvKX-",
        "outputId": "d1cff36c-f881-400c-bec4-b90071e37680"
      },
      "execution_count": null,
      "outputs": [
        {
          "output_type": "stream",
          "name": "stdout",
          "text": [
            "There are 115 unique skills.\n"
          ]
        },
        {
          "output_type": "execute_result",
          "data": {
            "text/plain": [
              "[('public relation', 180),\n",
              " ('communication', 172),\n",
              " ('graphic design', 162),\n",
              " ('administrative tasks', 142),\n",
              " ('emergency response', 140),\n",
              " ('wildlife rehabilitation', 139),\n",
              " ('computer literacy', 137),\n",
              " ('customer service', 127),\n",
              " ('visual comunication', 127),\n",
              " ('creative design', 126)]"
            ]
          },
          "metadata": {},
          "execution_count": 17
        }
      ]
    },
    {
      "cell_type": "code",
      "source": [
        "to_remove = ['public relation', 'communication', 'graphic design', 'administrative tasks', 'emergency response', 'wildlife rehabilitation']\n",
        "for t in to_remove:\n",
        "    Qualifications.remove(t)\n",
        "    _ = Q_counts.pop(t)\n",
        "\n",
        "skills = Q_counts.items()\n",
        "print(len(skills))"
      ],
      "metadata": {
        "colab": {
          "base_uri": "https://localhost:8080/"
        },
        "id": "BHQq-GXEv4ID",
        "outputId": "cf61deb1-4b03-4c5c-943e-9725d2ade7ff"
      },
      "execution_count": null,
      "outputs": [
        {
          "output_type": "stream",
          "name": "stdout",
          "text": [
            "111\n"
          ]
        }
      ]
    },
    {
      "cell_type": "code",
      "source": [
        "# Find set of book wikilinks for each book\n",
        "unique_qualifications_events = list(chain(*[list(set(skills for skills in event[\"Qualifications\"] if skills in event_index.keys())) for event in events]))\n",
        "\n",
        "# Count the number of books linked to by other books\n",
        "qualifications_event_counts = count_items(unique_qualifications_events)\n",
        "list(qualifications_event_counts.items())[:10]"
      ],
      "metadata": {
        "colab": {
          "base_uri": "https://localhost:8080/"
        },
        "id": "yhYJKr3DwxBq",
        "outputId": "e20515cc-0b07-41bc-f6d5-0c9b0354ad14"
      },
      "execution_count": null,
      "outputs": [
        {
          "output_type": "execute_result",
          "data": {
            "text/plain": [
              "[]"
            ]
          },
          "metadata": {},
          "execution_count": 51
        }
      ]
    },
    {
      "cell_type": "code",
      "source": [
        "skills_index = {skills: idx for idx, skills in enumerate(skills)}\n",
        "index_skills = {idx: skills for skills, idx in skills_index.items()}\n",
        "\n",
        "skills_index['pet grooming']\n",
        "# index_skills[65]\n",
        "# print(f'There are {len(skills_index)} wikilinks that will be used.')"
      ],
      "metadata": {
        "id": "PpLlTrCk0XIp"
      },
      "execution_count": null,
      "outputs": []
    },
    {
      "cell_type": "code",
      "source": [
        "pairs = []\n",
        "\n",
        "# Iterate through each event\n",
        "for event in events:\n",
        "    # Iterate through the links in the book\n",
        "    pairs.extend((event_index[event[\"Event_id\"]], skills_index[skills]) for skills in event[\"Qualifications\"] if skills.lower() in skills)\n",
        "\n",
        "len(pairs), len(skills), len(events)\n",
        "pairs[76]"
      ],
      "metadata": {
        "id": "wjiFsW8SMg3l"
      },
      "execution_count": null,
      "outputs": []
    },
    {
      "cell_type": "code",
      "source": [
        "index_event[pairs[5000][0]], index_skills[pairs[5000][1]]"
      ],
      "metadata": {
        "id": "I_SlvJiXumzR"
      },
      "execution_count": null,
      "outputs": []
    },
    {
      "cell_type": "markdown",
      "source": [
        "# Preproccesing using Tokenizer =========================================="
      ],
      "metadata": {
        "id": "mNEWTAmhB-YH"
      }
    },
    {
      "cell_type": "code",
      "source": [
        "from tensorflow.keras.models import Sequential\n",
        "from tensorflow.keras.layers import Embedding, Conv1D, GlobalMaxPooling1D, Dense, Concatenate\n",
        "from tensorflow.keras.preprocessing.text import Tokenizer\n",
        "from tensorflow.keras.preprocessing.sequence import pad_sequences\n",
        "\n",
        "user_ds = pd.read_csv(\"drive/MyDrive/Capstone Project/user_ds.csv\")\n",
        "event_ds= pd.read_csv(\"drive/MyDrive/Capstone Project/event_ds.csv\")\n",
        "\n",
        "df_user = pd.DataFrame(user_ds)\n",
        "df_event = pd.DataFrame(event_ds)\n",
        "\n",
        "print(f\"found {len(df_event)} event\")\n",
        "\n",
        "df_user = df_user.astype(str)\n",
        "df_event = df_event.astype(str)\n",
        "\n",
        "# Preprocess event data\n",
        "event_text = df_event['Qualifications 1'] + ' ' + df_event['Qualifications 2'] + ' ' + df_event['Qualifications 3'] + ' ' + df_event['Category']\n",
        "event_text = event_text.str.lower()\n",
        "\n",
        "# Tokenize\n",
        "tokenizer = Tokenizer()\n",
        "tokenizer.fit_on_texts(event_text)\n",
        "\n",
        "event_sequences = tokenizer.texts_to_sequences(event_text)\n",
        "event_data = pad_sequences(event_sequences)\n",
        "\n",
        "# Print information about each word\n",
        "word_index = tokenizer.word_index\n",
        "for word, index in word_index.items():\n",
        "    print(f\"Word: {word}, Index: {index}\")\n",
        "\n",
        "# Optionally, you can print the total number of words in the vocabulary\n",
        "total_words = len(word_index)\n",
        "print(f\"Total number of words in the vocabulary: {total_words}\")\n"
      ],
      "metadata": {
        "id": "9LauLHxa_xZx",
        "colab": {
          "base_uri": "https://localhost:8080/"
        },
        "outputId": "25d37141-c4aa-445d-b8ea-e592ee86295c"
      },
      "execution_count": null,
      "outputs": [
        {
          "output_type": "stream",
          "name": "stdout",
          "text": [
            "found 5599 event\n",
            "Word: animal, Index: 1\n",
            "Word: pet, Index: 2\n",
            "Word: development, Index: 3\n",
            "Word: event, Index: 4\n",
            "Word: social, Index: 5\n",
            "Word: service, Index: 6\n",
            "Word: environmental, Index: 7\n",
            "Word: communication, Index: 8\n",
            "Word: healthcare, Index: 9\n",
            "Word: youth, Index: 10\n",
            "Word: management, Index: 11\n",
            "Word: organizer, Index: 12\n",
            "Word: it, Index: 13\n",
            "Word: enviromental, Index: 14\n",
            "Word: and, Index: 15\n",
            "Word: leadership, Index: 16\n",
            "Word: education, Index: 17\n",
            "Word: conservation, Index: 18\n",
            "Word: design, Index: 19\n",
            "Word: public, Index: 20\n",
            "Word: support, Index: 21\n",
            "Word: data, Index: 22\n",
            "Word: lab, Index: 23\n",
            "Word: medical, Index: 24\n",
            "Word: adoption, Index: 25\n",
            "Word: training, Index: 26\n",
            "Word: camping, Index: 27\n",
            "Word: planning, Index: 28\n",
            "Word: team, Index: 29\n",
            "Word: rehabilitation, Index: 30\n",
            "Word: assistance, Index: 31\n",
            "Word: research, Index: 32\n",
            "Word: community, Index: 33\n",
            "Word: outreach, Index: 34\n",
            "Word: relation, Index: 35\n",
            "Word: health, Index: 36\n",
            "Word: computer, Index: 37\n",
            "Word: visual, Index: 38\n",
            "Word: behavior, Index: 39\n",
            "Word: marketing, Index: 40\n",
            "Word: care, Index: 41\n",
            "Word: photography, Index: 42\n",
            "Word: creative, Index: 43\n",
            "Word: wildlife, Index: 44\n",
            "Word: veterinary, Index: 45\n",
            "Word: media, Index: 46\n",
            "Word: technician, Index: 47\n",
            "Word: coordination, Index: 48\n",
            "Word: coding, Index: 49\n",
            "Word: therapy, Index: 50\n",
            "Word: graphic, Index: 51\n",
            "Word: customer, Index: 52\n",
            "Word: programming, Index: 53\n",
            "Word: urban, Index: 54\n",
            "Word: farming, Index: 55\n",
            "Word: rescue, Index: 56\n",
            "Word: digital, Index: 57\n",
            "Word: mentoring, Index: 58\n",
            "Word: grooming, Index: 59\n",
            "Word: activism, Index: 60\n",
            "Word: volunteer, Index: 61\n",
            "Word: first, Index: 62\n",
            "Word: aid, Index: 63\n",
            "Word: surgery, Index: 64\n",
            "Word: building, Index: 65\n",
            "Word: analysis, Index: 66\n",
            "Word: web, Index: 67\n",
            "Word: career, Index: 68\n",
            "Word: guidance, Index: 69\n",
            "Word: dog, Index: 70\n",
            "Word: administrative, Index: 71\n",
            "Word: tasks, Index: 72\n",
            "Word: advocacy, Index: 73\n",
            "Word: childcare, Index: 74\n",
            "Word: tutoring, Index: 75\n",
            "Word: occupational, Index: 76\n",
            "Word: special, Index: 77\n",
            "Word: needs, Index: 78\n",
            "Word: gardening, Index: 79\n",
            "Word: emergency, Index: 80\n",
            "Word: response, Index: 81\n",
            "Word: modification, Index: 82\n",
            "Word: fundraising, Index: 83\n",
            "Word: medicine, Index: 84\n",
            "Word: database, Index: 85\n",
            "Word: speaking, Index: 86\n",
            "Word: work, Index: 87\n",
            "Word: mental, Index: 88\n",
            "Word: diet, Index: 89\n",
            "Word: literacy, Index: 90\n",
            "Word: nursing, Index: 91\n",
            "Word: counseling, Index: 92\n",
            "Word: english, Index: 93\n",
            "Word: language, Index: 94\n",
            "Word: walking, Index: 95\n",
            "Word: content, Index: 96\n",
            "Word: creation, Index: 97\n",
            "Word: elderly, Index: 98\n",
            "Word: shelter, Index: 99\n",
            "Word: volunteering, Index: 100\n",
            "Word: physical, Index: 101\n",
            "Word: sports, Index: 102\n",
            "Word: coaching, Index: 103\n",
            "Word: teaching, Index: 104\n",
            "Word: nutrition, Index: 105\n",
            "Word: crisis, Index: 106\n",
            "Word: intervention, Index: 107\n",
            "Word: art, Index: 108\n",
            "Word: geriatric, Index: 109\n",
            "Word: clinical, Index: 110\n",
            "Word: case, Index: 111\n",
            "Word: empowerment, Index: 112\n",
            "Total number of words in the vocabulary: 112\n"
          ]
        }
      ]
    },
    {
      "cell_type": "code",
      "source": [
        "index_to_count = 3\n",
        "count_of_index = sum(sequence.count(index_to_count) for sequence in event_data)"
      ],
      "metadata": {
        "colab": {
          "base_uri": "https://localhost:8080/",
          "height": 262
        },
        "id": "x9E_uLNtKyFe",
        "outputId": "779f1e5c-4260-492c-867a-9a703dfb7de1"
      },
      "execution_count": null,
      "outputs": [
        {
          "output_type": "error",
          "ename": "AttributeError",
          "evalue": "ignored",
          "traceback": [
            "\u001b[0;31m---------------------------------------------------------------------------\u001b[0m",
            "\u001b[0;31mAttributeError\u001b[0m                            Traceback (most recent call last)",
            "\u001b[0;32m<ipython-input-22-6d9448e7ff79>\u001b[0m in \u001b[0;36m<cell line: 2>\u001b[0;34m()\u001b[0m\n\u001b[1;32m      1\u001b[0m \u001b[0mindex_to_count\u001b[0m \u001b[0;34m=\u001b[0m \u001b[0;36m3\u001b[0m\u001b[0;34m\u001b[0m\u001b[0;34m\u001b[0m\u001b[0m\n\u001b[0;32m----> 2\u001b[0;31m \u001b[0mcount_of_index\u001b[0m \u001b[0;34m=\u001b[0m \u001b[0msum\u001b[0m\u001b[0;34m(\u001b[0m\u001b[0msequence\u001b[0m\u001b[0;34m.\u001b[0m\u001b[0mcount\u001b[0m\u001b[0;34m(\u001b[0m\u001b[0mindex_to_count\u001b[0m\u001b[0;34m)\u001b[0m \u001b[0;32mfor\u001b[0m \u001b[0msequence\u001b[0m \u001b[0;32min\u001b[0m \u001b[0mevent_data\u001b[0m\u001b[0;34m)\u001b[0m\u001b[0;34m\u001b[0m\u001b[0;34m\u001b[0m\u001b[0m\n\u001b[0m",
            "\u001b[0;32m<ipython-input-22-6d9448e7ff79>\u001b[0m in \u001b[0;36m<genexpr>\u001b[0;34m(.0)\u001b[0m\n\u001b[1;32m      1\u001b[0m \u001b[0mindex_to_count\u001b[0m \u001b[0;34m=\u001b[0m \u001b[0;36m3\u001b[0m\u001b[0;34m\u001b[0m\u001b[0;34m\u001b[0m\u001b[0m\n\u001b[0;32m----> 2\u001b[0;31m \u001b[0mcount_of_index\u001b[0m \u001b[0;34m=\u001b[0m \u001b[0msum\u001b[0m\u001b[0;34m(\u001b[0m\u001b[0msequence\u001b[0m\u001b[0;34m.\u001b[0m\u001b[0mcount\u001b[0m\u001b[0;34m(\u001b[0m\u001b[0mindex_to_count\u001b[0m\u001b[0;34m)\u001b[0m \u001b[0;32mfor\u001b[0m \u001b[0msequence\u001b[0m \u001b[0;32min\u001b[0m \u001b[0mevent_data\u001b[0m\u001b[0;34m)\u001b[0m\u001b[0;34m\u001b[0m\u001b[0;34m\u001b[0m\u001b[0m\n\u001b[0m",
            "\u001b[0;31mAttributeError\u001b[0m: 'numpy.ndarray' object has no attribute 'count'"
          ]
        }
      ]
    },
    {
      "cell_type": "code",
      "source": [
        "unique_skills = list(chain(*[list(set(tokenizer)) for event in events]))\n",
        "print(f\"There are {len(set(unique_Q))} unique skills.\")\n",
        "\n",
        "Q_counts = count_items(unique_Q)\n",
        "list(Q_counts.items())[:10]"
      ],
      "metadata": {
        "id": "5U9wRzn6Hy5m"
      },
      "execution_count": null,
      "outputs": []
    },
    {
      "cell_type": "code",
      "source": [
        "print(f'Found {len(events)} event.')"
      ],
      "metadata": {
        "colab": {
          "base_uri": "https://localhost:8080/"
        },
        "id": "R8gHfq3_F26e",
        "outputId": "7bbb699e-1f3d-40d8-a527-a64321a8a237"
      },
      "execution_count": null,
      "outputs": [
        {
          "output_type": "stream",
          "name": "stdout",
          "text": [
            "Found 2786 event.\n"
          ]
        }
      ]
    },
    {
      "cell_type": "code",
      "source": [
        "word_index['pet_and_animal'] = word_index['pet']\n",
        "word_index.pop('pet', None)\n",
        "word_index.pop('and', None)\n",
        "word_index.pop('animal', None)"
      ],
      "metadata": {
        "colab": {
          "base_uri": "https://localhost:8080/"
        },
        "id": "9_qd_piTG1UW",
        "outputId": "be6dd46d-aec3-4553-a122-5ae026f976ff"
      },
      "execution_count": null,
      "outputs": [
        {
          "output_type": "error",
          "ename": "NameError",
          "evalue": "ignored",
          "traceback": [
            "\u001b[0;31m---------------------------------------------------------------------------\u001b[0m",
            "\u001b[0;31mNameError\u001b[0m                                 Traceback (most recent call last)",
            "\u001b[0;32m<ipython-input-1-92b3e3f32ccd>\u001b[0m in \u001b[0;36m<cell line: 1>\u001b[0;34m()\u001b[0m\n\u001b[0;32m----> 1\u001b[0;31m \u001b[0mword_index\u001b[0m\u001b[0;34m[\u001b[0m\u001b[0;34m'pet_and_animal'\u001b[0m\u001b[0;34m]\u001b[0m \u001b[0;34m=\u001b[0m \u001b[0mword_index\u001b[0m\u001b[0;34m[\u001b[0m\u001b[0;34m'pet'\u001b[0m\u001b[0;34m]\u001b[0m\u001b[0;34m\u001b[0m\u001b[0;34m\u001b[0m\u001b[0m\n\u001b[0m\u001b[1;32m      2\u001b[0m \u001b[0mword_index\u001b[0m\u001b[0;34m.\u001b[0m\u001b[0mpop\u001b[0m\u001b[0;34m(\u001b[0m\u001b[0;34m'pet'\u001b[0m\u001b[0;34m,\u001b[0m \u001b[0;32mNone\u001b[0m\u001b[0;34m)\u001b[0m\u001b[0;34m\u001b[0m\u001b[0;34m\u001b[0m\u001b[0m\n\u001b[1;32m      3\u001b[0m \u001b[0mword_index\u001b[0m\u001b[0;34m.\u001b[0m\u001b[0mpop\u001b[0m\u001b[0;34m(\u001b[0m\u001b[0;34m'and'\u001b[0m\u001b[0;34m,\u001b[0m \u001b[0;32mNone\u001b[0m\u001b[0;34m)\u001b[0m\u001b[0;34m\u001b[0m\u001b[0;34m\u001b[0m\u001b[0m\n\u001b[1;32m      4\u001b[0m \u001b[0mword_index\u001b[0m\u001b[0;34m.\u001b[0m\u001b[0mpop\u001b[0m\u001b[0;34m(\u001b[0m\u001b[0;34m'animal'\u001b[0m\u001b[0;34m,\u001b[0m \u001b[0;32mNone\u001b[0m\u001b[0;34m)\u001b[0m\u001b[0;34m\u001b[0m\u001b[0;34m\u001b[0m\u001b[0m\n",
            "\u001b[0;31mNameError\u001b[0m: name 'word_index' is not defined"
          ]
        }
      ]
    },
    {
      "cell_type": "code",
      "source": [
        "event_text = events['Qualifications'] + ' ' + events['Category'] + ' ' + events['Domisili']\n",
        "event_text = event_text.str.lower()"
      ],
      "metadata": {
        "colab": {
          "base_uri": "https://localhost:8080/",
          "height": 193
        },
        "id": "YIGL8OBKGALn",
        "outputId": "232a3b0d-bc57-4e93-d482-2a3685c84577"
      },
      "execution_count": null,
      "outputs": [
        {
          "output_type": "error",
          "ename": "TypeError",
          "evalue": "ignored",
          "traceback": [
            "\u001b[0;31m---------------------------------------------------------------------------\u001b[0m",
            "\u001b[0;31mTypeError\u001b[0m                                 Traceback (most recent call last)",
            "\u001b[0;32m<ipython-input-15-2c12c91dbac0>\u001b[0m in \u001b[0;36m<cell line: 1>\u001b[0;34m()\u001b[0m\n\u001b[0;32m----> 1\u001b[0;31m \u001b[0mevent_text\u001b[0m \u001b[0;34m=\u001b[0m \u001b[0mevents\u001b[0m\u001b[0;34m[\u001b[0m\u001b[0;34m'Qualifications'\u001b[0m\u001b[0;34m]\u001b[0m \u001b[0;34m+\u001b[0m \u001b[0;34m' '\u001b[0m \u001b[0;34m+\u001b[0m \u001b[0mevents\u001b[0m\u001b[0;34m[\u001b[0m\u001b[0;34m'Category'\u001b[0m\u001b[0;34m]\u001b[0m \u001b[0;34m+\u001b[0m \u001b[0;34m' '\u001b[0m \u001b[0;34m+\u001b[0m \u001b[0mevents\u001b[0m\u001b[0;34m[\u001b[0m\u001b[0;34m'Domisili'\u001b[0m\u001b[0;34m]\u001b[0m\u001b[0;34m\u001b[0m\u001b[0;34m\u001b[0m\u001b[0m\n\u001b[0m\u001b[1;32m      2\u001b[0m \u001b[0mevent_text\u001b[0m \u001b[0;34m=\u001b[0m \u001b[0mevent_text\u001b[0m\u001b[0;34m.\u001b[0m\u001b[0mstr\u001b[0m\u001b[0;34m.\u001b[0m\u001b[0mlower\u001b[0m\u001b[0;34m(\u001b[0m\u001b[0;34m)\u001b[0m\u001b[0;34m\u001b[0m\u001b[0;34m\u001b[0m\u001b[0m\n",
            "\u001b[0;31mTypeError\u001b[0m: list indices must be integers or slices, not str"
          ]
        }
      ]
    },
    {
      "cell_type": "code",
      "source": [],
      "metadata": {
        "id": "3lDXijDtGX-o"
      },
      "execution_count": null,
      "outputs": []
    }
  ]
}